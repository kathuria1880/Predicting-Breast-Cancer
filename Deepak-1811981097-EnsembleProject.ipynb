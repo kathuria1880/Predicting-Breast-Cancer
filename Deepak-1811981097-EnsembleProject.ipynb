{
 "cells": [
  {
   "cell_type": "code",
   "execution_count": 1,
   "metadata": {},
   "outputs": [
    {
     "data": {
      "text/html": [
       "        <script type=\"text/javascript\">\n",
       "        window.PlotlyConfig = {MathJaxConfig: 'local'};\n",
       "        if (window.MathJax) {MathJax.Hub.Config({SVG: {font: \"STIX-Web\"}});}\n",
       "        if (typeof require !== 'undefined') {\n",
       "        require.undef(\"plotly\");\n",
       "        requirejs.config({\n",
       "            paths: {\n",
       "                'plotly': ['https://cdn.plot.ly/plotly-latest.min']\n",
       "            }\n",
       "        });\n",
       "        require(['plotly'], function(Plotly) {\n",
       "            window._Plotly = Plotly;\n",
       "        });\n",
       "        }\n",
       "        </script>\n",
       "        "
      ]
     },
     "metadata": {},
     "output_type": "display_data"
    }
   ],
   "source": [
    "import pandas as pd\n",
    "import numpy as np\n",
    "import seaborn as sns\n",
    "import matplotlib.pyplot as plt\n",
    "%matplotlib inline\n",
    "import itertools\n",
    "from itertools import chain\n",
    "from sklearn.feature_selection import RFE\n",
    "from sklearn.decomposition import PCA\n",
    "from sklearn.preprocessing import StandardScaler\n",
    "from sklearn.linear_model import LogisticRegression\n",
    "from sklearn.ensemble import VotingClassifier\n",
    "from sklearn.model_selection import GridSearchCV, cross_val_score, learning_curve, train_test_split\n",
    "from sklearn.metrics import precision_score, recall_score, confusion_matrix, roc_curve, precision_recall_curve, accuracy_score\n",
    "import warnings\n",
    "import plotly.offline as py\n",
    "py.init_notebook_mode(connected=True)\n",
    "import plotly.graph_objs as go\n",
    "import plotly.tools as tls\n",
    "import plotly.figure_factory as ff\n",
    "\n",
    "warnings.filterwarnings('ignore')"
   ]
  },
  {
   "cell_type": "code",
   "execution_count": 3,
   "metadata": {},
   "outputs": [],
   "source": [
    "data = pd.read_csv('cancer.csv')"
   ]
  },
  {
   "cell_type": "code",
   "execution_count": 4,
   "metadata": {},
   "outputs": [
    {
     "data": {
      "text/html": [
       "<div>\n",
       "<style scoped>\n",
       "    .dataframe tbody tr th:only-of-type {\n",
       "        vertical-align: middle;\n",
       "    }\n",
       "\n",
       "    .dataframe tbody tr th {\n",
       "        vertical-align: top;\n",
       "    }\n",
       "\n",
       "    .dataframe thead th {\n",
       "        text-align: right;\n",
       "    }\n",
       "</style>\n",
       "<table border=\"1\" class=\"dataframe\">\n",
       "  <thead>\n",
       "    <tr style=\"text-align: right;\">\n",
       "      <th></th>\n",
       "      <th>id</th>\n",
       "      <th>diagnosis</th>\n",
       "      <th>radius_mean</th>\n",
       "      <th>texture_mean</th>\n",
       "      <th>perimeter_mean</th>\n",
       "      <th>area_mean</th>\n",
       "      <th>smoothness_mean</th>\n",
       "      <th>compactness_mean</th>\n",
       "      <th>concavity_mean</th>\n",
       "      <th>concave points_mean</th>\n",
       "      <th>...</th>\n",
       "      <th>texture_worst</th>\n",
       "      <th>perimeter_worst</th>\n",
       "      <th>area_worst</th>\n",
       "      <th>smoothness_worst</th>\n",
       "      <th>compactness_worst</th>\n",
       "      <th>concavity_worst</th>\n",
       "      <th>concave points_worst</th>\n",
       "      <th>symmetry_worst</th>\n",
       "      <th>fractal_dimension_worst</th>\n",
       "      <th>Unnamed: 32</th>\n",
       "    </tr>\n",
       "  </thead>\n",
       "  <tbody>\n",
       "    <tr>\n",
       "      <th>0</th>\n",
       "      <td>842302</td>\n",
       "      <td>M</td>\n",
       "      <td>17.99</td>\n",
       "      <td>10.38</td>\n",
       "      <td>122.80</td>\n",
       "      <td>1001.0</td>\n",
       "      <td>0.11840</td>\n",
       "      <td>0.27760</td>\n",
       "      <td>0.30010</td>\n",
       "      <td>0.14710</td>\n",
       "      <td>...</td>\n",
       "      <td>17.33</td>\n",
       "      <td>184.60</td>\n",
       "      <td>2019.0</td>\n",
       "      <td>0.16220</td>\n",
       "      <td>0.66560</td>\n",
       "      <td>0.7119</td>\n",
       "      <td>0.2654</td>\n",
       "      <td>0.4601</td>\n",
       "      <td>0.11890</td>\n",
       "      <td>NaN</td>\n",
       "    </tr>\n",
       "    <tr>\n",
       "      <th>1</th>\n",
       "      <td>842517</td>\n",
       "      <td>M</td>\n",
       "      <td>20.57</td>\n",
       "      <td>17.77</td>\n",
       "      <td>132.90</td>\n",
       "      <td>1326.0</td>\n",
       "      <td>0.08474</td>\n",
       "      <td>0.07864</td>\n",
       "      <td>0.08690</td>\n",
       "      <td>0.07017</td>\n",
       "      <td>...</td>\n",
       "      <td>23.41</td>\n",
       "      <td>158.80</td>\n",
       "      <td>1956.0</td>\n",
       "      <td>0.12380</td>\n",
       "      <td>0.18660</td>\n",
       "      <td>0.2416</td>\n",
       "      <td>0.1860</td>\n",
       "      <td>0.2750</td>\n",
       "      <td>0.08902</td>\n",
       "      <td>NaN</td>\n",
       "    </tr>\n",
       "    <tr>\n",
       "      <th>2</th>\n",
       "      <td>84300903</td>\n",
       "      <td>M</td>\n",
       "      <td>19.69</td>\n",
       "      <td>21.25</td>\n",
       "      <td>130.00</td>\n",
       "      <td>1203.0</td>\n",
       "      <td>0.10960</td>\n",
       "      <td>0.15990</td>\n",
       "      <td>0.19740</td>\n",
       "      <td>0.12790</td>\n",
       "      <td>...</td>\n",
       "      <td>25.53</td>\n",
       "      <td>152.50</td>\n",
       "      <td>1709.0</td>\n",
       "      <td>0.14440</td>\n",
       "      <td>0.42450</td>\n",
       "      <td>0.4504</td>\n",
       "      <td>0.2430</td>\n",
       "      <td>0.3613</td>\n",
       "      <td>0.08758</td>\n",
       "      <td>NaN</td>\n",
       "    </tr>\n",
       "    <tr>\n",
       "      <th>3</th>\n",
       "      <td>84348301</td>\n",
       "      <td>M</td>\n",
       "      <td>11.42</td>\n",
       "      <td>20.38</td>\n",
       "      <td>77.58</td>\n",
       "      <td>386.1</td>\n",
       "      <td>0.14250</td>\n",
       "      <td>0.28390</td>\n",
       "      <td>0.24140</td>\n",
       "      <td>0.10520</td>\n",
       "      <td>...</td>\n",
       "      <td>26.50</td>\n",
       "      <td>98.87</td>\n",
       "      <td>567.7</td>\n",
       "      <td>0.20980</td>\n",
       "      <td>0.86630</td>\n",
       "      <td>0.6869</td>\n",
       "      <td>0.2575</td>\n",
       "      <td>0.6638</td>\n",
       "      <td>0.17300</td>\n",
       "      <td>NaN</td>\n",
       "    </tr>\n",
       "    <tr>\n",
       "      <th>4</th>\n",
       "      <td>84358402</td>\n",
       "      <td>M</td>\n",
       "      <td>20.29</td>\n",
       "      <td>14.34</td>\n",
       "      <td>135.10</td>\n",
       "      <td>1297.0</td>\n",
       "      <td>0.10030</td>\n",
       "      <td>0.13280</td>\n",
       "      <td>0.19800</td>\n",
       "      <td>0.10430</td>\n",
       "      <td>...</td>\n",
       "      <td>16.67</td>\n",
       "      <td>152.20</td>\n",
       "      <td>1575.0</td>\n",
       "      <td>0.13740</td>\n",
       "      <td>0.20500</td>\n",
       "      <td>0.4000</td>\n",
       "      <td>0.1625</td>\n",
       "      <td>0.2364</td>\n",
       "      <td>0.07678</td>\n",
       "      <td>NaN</td>\n",
       "    </tr>\n",
       "    <tr>\n",
       "      <th>...</th>\n",
       "      <td>...</td>\n",
       "      <td>...</td>\n",
       "      <td>...</td>\n",
       "      <td>...</td>\n",
       "      <td>...</td>\n",
       "      <td>...</td>\n",
       "      <td>...</td>\n",
       "      <td>...</td>\n",
       "      <td>...</td>\n",
       "      <td>...</td>\n",
       "      <td>...</td>\n",
       "      <td>...</td>\n",
       "      <td>...</td>\n",
       "      <td>...</td>\n",
       "      <td>...</td>\n",
       "      <td>...</td>\n",
       "      <td>...</td>\n",
       "      <td>...</td>\n",
       "      <td>...</td>\n",
       "      <td>...</td>\n",
       "      <td>...</td>\n",
       "    </tr>\n",
       "    <tr>\n",
       "      <th>564</th>\n",
       "      <td>926424</td>\n",
       "      <td>M</td>\n",
       "      <td>21.56</td>\n",
       "      <td>22.39</td>\n",
       "      <td>142.00</td>\n",
       "      <td>1479.0</td>\n",
       "      <td>0.11100</td>\n",
       "      <td>0.11590</td>\n",
       "      <td>0.24390</td>\n",
       "      <td>0.13890</td>\n",
       "      <td>...</td>\n",
       "      <td>26.40</td>\n",
       "      <td>166.10</td>\n",
       "      <td>2027.0</td>\n",
       "      <td>0.14100</td>\n",
       "      <td>0.21130</td>\n",
       "      <td>0.4107</td>\n",
       "      <td>0.2216</td>\n",
       "      <td>0.2060</td>\n",
       "      <td>0.07115</td>\n",
       "      <td>NaN</td>\n",
       "    </tr>\n",
       "    <tr>\n",
       "      <th>565</th>\n",
       "      <td>926682</td>\n",
       "      <td>M</td>\n",
       "      <td>20.13</td>\n",
       "      <td>28.25</td>\n",
       "      <td>131.20</td>\n",
       "      <td>1261.0</td>\n",
       "      <td>0.09780</td>\n",
       "      <td>0.10340</td>\n",
       "      <td>0.14400</td>\n",
       "      <td>0.09791</td>\n",
       "      <td>...</td>\n",
       "      <td>38.25</td>\n",
       "      <td>155.00</td>\n",
       "      <td>1731.0</td>\n",
       "      <td>0.11660</td>\n",
       "      <td>0.19220</td>\n",
       "      <td>0.3215</td>\n",
       "      <td>0.1628</td>\n",
       "      <td>0.2572</td>\n",
       "      <td>0.06637</td>\n",
       "      <td>NaN</td>\n",
       "    </tr>\n",
       "    <tr>\n",
       "      <th>566</th>\n",
       "      <td>926954</td>\n",
       "      <td>M</td>\n",
       "      <td>16.60</td>\n",
       "      <td>28.08</td>\n",
       "      <td>108.30</td>\n",
       "      <td>858.1</td>\n",
       "      <td>0.08455</td>\n",
       "      <td>0.10230</td>\n",
       "      <td>0.09251</td>\n",
       "      <td>0.05302</td>\n",
       "      <td>...</td>\n",
       "      <td>34.12</td>\n",
       "      <td>126.70</td>\n",
       "      <td>1124.0</td>\n",
       "      <td>0.11390</td>\n",
       "      <td>0.30940</td>\n",
       "      <td>0.3403</td>\n",
       "      <td>0.1418</td>\n",
       "      <td>0.2218</td>\n",
       "      <td>0.07820</td>\n",
       "      <td>NaN</td>\n",
       "    </tr>\n",
       "    <tr>\n",
       "      <th>567</th>\n",
       "      <td>927241</td>\n",
       "      <td>M</td>\n",
       "      <td>20.60</td>\n",
       "      <td>29.33</td>\n",
       "      <td>140.10</td>\n",
       "      <td>1265.0</td>\n",
       "      <td>0.11780</td>\n",
       "      <td>0.27700</td>\n",
       "      <td>0.35140</td>\n",
       "      <td>0.15200</td>\n",
       "      <td>...</td>\n",
       "      <td>39.42</td>\n",
       "      <td>184.60</td>\n",
       "      <td>1821.0</td>\n",
       "      <td>0.16500</td>\n",
       "      <td>0.86810</td>\n",
       "      <td>0.9387</td>\n",
       "      <td>0.2650</td>\n",
       "      <td>0.4087</td>\n",
       "      <td>0.12400</td>\n",
       "      <td>NaN</td>\n",
       "    </tr>\n",
       "    <tr>\n",
       "      <th>568</th>\n",
       "      <td>92751</td>\n",
       "      <td>B</td>\n",
       "      <td>7.76</td>\n",
       "      <td>24.54</td>\n",
       "      <td>47.92</td>\n",
       "      <td>181.0</td>\n",
       "      <td>0.05263</td>\n",
       "      <td>0.04362</td>\n",
       "      <td>0.00000</td>\n",
       "      <td>0.00000</td>\n",
       "      <td>...</td>\n",
       "      <td>30.37</td>\n",
       "      <td>59.16</td>\n",
       "      <td>268.6</td>\n",
       "      <td>0.08996</td>\n",
       "      <td>0.06444</td>\n",
       "      <td>0.0000</td>\n",
       "      <td>0.0000</td>\n",
       "      <td>0.2871</td>\n",
       "      <td>0.07039</td>\n",
       "      <td>NaN</td>\n",
       "    </tr>\n",
       "  </tbody>\n",
       "</table>\n",
       "<p>569 rows × 33 columns</p>\n",
       "</div>"
      ],
      "text/plain": [
       "           id diagnosis  radius_mean  texture_mean  perimeter_mean  area_mean  \\\n",
       "0      842302         M        17.99         10.38          122.80     1001.0   \n",
       "1      842517         M        20.57         17.77          132.90     1326.0   \n",
       "2    84300903         M        19.69         21.25          130.00     1203.0   \n",
       "3    84348301         M        11.42         20.38           77.58      386.1   \n",
       "4    84358402         M        20.29         14.34          135.10     1297.0   \n",
       "..        ...       ...          ...           ...             ...        ...   \n",
       "564    926424         M        21.56         22.39          142.00     1479.0   \n",
       "565    926682         M        20.13         28.25          131.20     1261.0   \n",
       "566    926954         M        16.60         28.08          108.30      858.1   \n",
       "567    927241         M        20.60         29.33          140.10     1265.0   \n",
       "568     92751         B         7.76         24.54           47.92      181.0   \n",
       "\n",
       "     smoothness_mean  compactness_mean  concavity_mean  concave points_mean  \\\n",
       "0            0.11840           0.27760         0.30010              0.14710   \n",
       "1            0.08474           0.07864         0.08690              0.07017   \n",
       "2            0.10960           0.15990         0.19740              0.12790   \n",
       "3            0.14250           0.28390         0.24140              0.10520   \n",
       "4            0.10030           0.13280         0.19800              0.10430   \n",
       "..               ...               ...             ...                  ...   \n",
       "564          0.11100           0.11590         0.24390              0.13890   \n",
       "565          0.09780           0.10340         0.14400              0.09791   \n",
       "566          0.08455           0.10230         0.09251              0.05302   \n",
       "567          0.11780           0.27700         0.35140              0.15200   \n",
       "568          0.05263           0.04362         0.00000              0.00000   \n",
       "\n",
       "     ...  texture_worst  perimeter_worst  area_worst  smoothness_worst  \\\n",
       "0    ...          17.33           184.60      2019.0           0.16220   \n",
       "1    ...          23.41           158.80      1956.0           0.12380   \n",
       "2    ...          25.53           152.50      1709.0           0.14440   \n",
       "3    ...          26.50            98.87       567.7           0.20980   \n",
       "4    ...          16.67           152.20      1575.0           0.13740   \n",
       "..   ...            ...              ...         ...               ...   \n",
       "564  ...          26.40           166.10      2027.0           0.14100   \n",
       "565  ...          38.25           155.00      1731.0           0.11660   \n",
       "566  ...          34.12           126.70      1124.0           0.11390   \n",
       "567  ...          39.42           184.60      1821.0           0.16500   \n",
       "568  ...          30.37            59.16       268.6           0.08996   \n",
       "\n",
       "     compactness_worst  concavity_worst  concave points_worst  symmetry_worst  \\\n",
       "0              0.66560           0.7119                0.2654          0.4601   \n",
       "1              0.18660           0.2416                0.1860          0.2750   \n",
       "2              0.42450           0.4504                0.2430          0.3613   \n",
       "3              0.86630           0.6869                0.2575          0.6638   \n",
       "4              0.20500           0.4000                0.1625          0.2364   \n",
       "..                 ...              ...                   ...             ...   \n",
       "564            0.21130           0.4107                0.2216          0.2060   \n",
       "565            0.19220           0.3215                0.1628          0.2572   \n",
       "566            0.30940           0.3403                0.1418          0.2218   \n",
       "567            0.86810           0.9387                0.2650          0.4087   \n",
       "568            0.06444           0.0000                0.0000          0.2871   \n",
       "\n",
       "     fractal_dimension_worst  Unnamed: 32  \n",
       "0                    0.11890          NaN  \n",
       "1                    0.08902          NaN  \n",
       "2                    0.08758          NaN  \n",
       "3                    0.17300          NaN  \n",
       "4                    0.07678          NaN  \n",
       "..                       ...          ...  \n",
       "564                  0.07115          NaN  \n",
       "565                  0.06637          NaN  \n",
       "566                  0.07820          NaN  \n",
       "567                  0.12400          NaN  \n",
       "568                  0.07039          NaN  \n",
       "\n",
       "[569 rows x 33 columns]"
      ]
     },
     "execution_count": 4,
     "metadata": {},
     "output_type": "execute_result"
    }
   ],
   "source": [
    "data"
   ]
  },
  {
   "cell_type": "code",
   "execution_count": 5,
   "metadata": {},
   "outputs": [
    {
     "data": {
      "application/vnd.plotly.v1+json": {
       "config": {
        "linkText": "Export to plot.ly",
        "plotlyServerURL": "https://plot.ly",
        "showLink": false
       },
       "data": [
        {
         "marker": {
          "color": "lightgrey",
          "line": {
           "color": "#000000",
           "width": 1.5
          }
         },
         "opacity": 0.8,
         "type": "bar",
         "x": [
          "id",
          "diagnosis",
          "radius_mean",
          "texture_mean",
          "perimeter_mean",
          "area_mean",
          "smoothness_mean",
          "compactness_mean",
          "concavity_mean",
          "concave points_mean",
          "symmetry_mean",
          "fractal_dimension_mean",
          "radius_se",
          "texture_se",
          "perimeter_se",
          "area_se",
          "smoothness_se",
          "compactness_se",
          "concavity_se",
          "concave points_se",
          "symmetry_se",
          "fractal_dimension_se",
          "radius_worst",
          "texture_worst",
          "perimeter_worst",
          "area_worst",
          "smoothness_worst",
          "compactness_worst",
          "concavity_worst",
          "concave points_worst",
          "symmetry_worst",
          "fractal_dimension_worst",
          "Unnamed: 32"
         ],
         "y": [
          569,
          569,
          569,
          569,
          569,
          569,
          569,
          569,
          569,
          569,
          569,
          569,
          569,
          569,
          569,
          569,
          569,
          569,
          569,
          569,
          569,
          569,
          569,
          569,
          569,
          569,
          569,
          569,
          569,
          569,
          569,
          569,
          0
         ]
        }
       ],
       "layout": {
        "template": {
         "data": {
          "bar": [
           {
            "error_x": {
             "color": "#2a3f5f"
            },
            "error_y": {
             "color": "#2a3f5f"
            },
            "marker": {
             "line": {
              "color": "#E5ECF6",
              "width": 0.5
             }
            },
            "type": "bar"
           }
          ],
          "barpolar": [
           {
            "marker": {
             "line": {
              "color": "#E5ECF6",
              "width": 0.5
             }
            },
            "type": "barpolar"
           }
          ],
          "carpet": [
           {
            "aaxis": {
             "endlinecolor": "#2a3f5f",
             "gridcolor": "white",
             "linecolor": "white",
             "minorgridcolor": "white",
             "startlinecolor": "#2a3f5f"
            },
            "baxis": {
             "endlinecolor": "#2a3f5f",
             "gridcolor": "white",
             "linecolor": "white",
             "minorgridcolor": "white",
             "startlinecolor": "#2a3f5f"
            },
            "type": "carpet"
           }
          ],
          "choropleth": [
           {
            "colorbar": {
             "outlinewidth": 0,
             "ticks": ""
            },
            "type": "choropleth"
           }
          ],
          "contour": [
           {
            "colorbar": {
             "outlinewidth": 0,
             "ticks": ""
            },
            "colorscale": [
             [
              0,
              "#0d0887"
             ],
             [
              0.1111111111111111,
              "#46039f"
             ],
             [
              0.2222222222222222,
              "#7201a8"
             ],
             [
              0.3333333333333333,
              "#9c179e"
             ],
             [
              0.4444444444444444,
              "#bd3786"
             ],
             [
              0.5555555555555556,
              "#d8576b"
             ],
             [
              0.6666666666666666,
              "#ed7953"
             ],
             [
              0.7777777777777778,
              "#fb9f3a"
             ],
             [
              0.8888888888888888,
              "#fdca26"
             ],
             [
              1,
              "#f0f921"
             ]
            ],
            "type": "contour"
           }
          ],
          "contourcarpet": [
           {
            "colorbar": {
             "outlinewidth": 0,
             "ticks": ""
            },
            "type": "contourcarpet"
           }
          ],
          "heatmap": [
           {
            "colorbar": {
             "outlinewidth": 0,
             "ticks": ""
            },
            "colorscale": [
             [
              0,
              "#0d0887"
             ],
             [
              0.1111111111111111,
              "#46039f"
             ],
             [
              0.2222222222222222,
              "#7201a8"
             ],
             [
              0.3333333333333333,
              "#9c179e"
             ],
             [
              0.4444444444444444,
              "#bd3786"
             ],
             [
              0.5555555555555556,
              "#d8576b"
             ],
             [
              0.6666666666666666,
              "#ed7953"
             ],
             [
              0.7777777777777778,
              "#fb9f3a"
             ],
             [
              0.8888888888888888,
              "#fdca26"
             ],
             [
              1,
              "#f0f921"
             ]
            ],
            "type": "heatmap"
           }
          ],
          "heatmapgl": [
           {
            "colorbar": {
             "outlinewidth": 0,
             "ticks": ""
            },
            "colorscale": [
             [
              0,
              "#0d0887"
             ],
             [
              0.1111111111111111,
              "#46039f"
             ],
             [
              0.2222222222222222,
              "#7201a8"
             ],
             [
              0.3333333333333333,
              "#9c179e"
             ],
             [
              0.4444444444444444,
              "#bd3786"
             ],
             [
              0.5555555555555556,
              "#d8576b"
             ],
             [
              0.6666666666666666,
              "#ed7953"
             ],
             [
              0.7777777777777778,
              "#fb9f3a"
             ],
             [
              0.8888888888888888,
              "#fdca26"
             ],
             [
              1,
              "#f0f921"
             ]
            ],
            "type": "heatmapgl"
           }
          ],
          "histogram": [
           {
            "marker": {
             "colorbar": {
              "outlinewidth": 0,
              "ticks": ""
             }
            },
            "type": "histogram"
           }
          ],
          "histogram2d": [
           {
            "colorbar": {
             "outlinewidth": 0,
             "ticks": ""
            },
            "colorscale": [
             [
              0,
              "#0d0887"
             ],
             [
              0.1111111111111111,
              "#46039f"
             ],
             [
              0.2222222222222222,
              "#7201a8"
             ],
             [
              0.3333333333333333,
              "#9c179e"
             ],
             [
              0.4444444444444444,
              "#bd3786"
             ],
             [
              0.5555555555555556,
              "#d8576b"
             ],
             [
              0.6666666666666666,
              "#ed7953"
             ],
             [
              0.7777777777777778,
              "#fb9f3a"
             ],
             [
              0.8888888888888888,
              "#fdca26"
             ],
             [
              1,
              "#f0f921"
             ]
            ],
            "type": "histogram2d"
           }
          ],
          "histogram2dcontour": [
           {
            "colorbar": {
             "outlinewidth": 0,
             "ticks": ""
            },
            "colorscale": [
             [
              0,
              "#0d0887"
             ],
             [
              0.1111111111111111,
              "#46039f"
             ],
             [
              0.2222222222222222,
              "#7201a8"
             ],
             [
              0.3333333333333333,
              "#9c179e"
             ],
             [
              0.4444444444444444,
              "#bd3786"
             ],
             [
              0.5555555555555556,
              "#d8576b"
             ],
             [
              0.6666666666666666,
              "#ed7953"
             ],
             [
              0.7777777777777778,
              "#fb9f3a"
             ],
             [
              0.8888888888888888,
              "#fdca26"
             ],
             [
              1,
              "#f0f921"
             ]
            ],
            "type": "histogram2dcontour"
           }
          ],
          "mesh3d": [
           {
            "colorbar": {
             "outlinewidth": 0,
             "ticks": ""
            },
            "type": "mesh3d"
           }
          ],
          "parcoords": [
           {
            "line": {
             "colorbar": {
              "outlinewidth": 0,
              "ticks": ""
             }
            },
            "type": "parcoords"
           }
          ],
          "pie": [
           {
            "automargin": true,
            "type": "pie"
           }
          ],
          "scatter": [
           {
            "marker": {
             "colorbar": {
              "outlinewidth": 0,
              "ticks": ""
             }
            },
            "type": "scatter"
           }
          ],
          "scatter3d": [
           {
            "line": {
             "colorbar": {
              "outlinewidth": 0,
              "ticks": ""
             }
            },
            "marker": {
             "colorbar": {
              "outlinewidth": 0,
              "ticks": ""
             }
            },
            "type": "scatter3d"
           }
          ],
          "scattercarpet": [
           {
            "marker": {
             "colorbar": {
              "outlinewidth": 0,
              "ticks": ""
             }
            },
            "type": "scattercarpet"
           }
          ],
          "scattergeo": [
           {
            "marker": {
             "colorbar": {
              "outlinewidth": 0,
              "ticks": ""
             }
            },
            "type": "scattergeo"
           }
          ],
          "scattergl": [
           {
            "marker": {
             "colorbar": {
              "outlinewidth": 0,
              "ticks": ""
             }
            },
            "type": "scattergl"
           }
          ],
          "scattermapbox": [
           {
            "marker": {
             "colorbar": {
              "outlinewidth": 0,
              "ticks": ""
             }
            },
            "type": "scattermapbox"
           }
          ],
          "scatterpolar": [
           {
            "marker": {
             "colorbar": {
              "outlinewidth": 0,
              "ticks": ""
             }
            },
            "type": "scatterpolar"
           }
          ],
          "scatterpolargl": [
           {
            "marker": {
             "colorbar": {
              "outlinewidth": 0,
              "ticks": ""
             }
            },
            "type": "scatterpolargl"
           }
          ],
          "scatterternary": [
           {
            "marker": {
             "colorbar": {
              "outlinewidth": 0,
              "ticks": ""
             }
            },
            "type": "scatterternary"
           }
          ],
          "surface": [
           {
            "colorbar": {
             "outlinewidth": 0,
             "ticks": ""
            },
            "colorscale": [
             [
              0,
              "#0d0887"
             ],
             [
              0.1111111111111111,
              "#46039f"
             ],
             [
              0.2222222222222222,
              "#7201a8"
             ],
             [
              0.3333333333333333,
              "#9c179e"
             ],
             [
              0.4444444444444444,
              "#bd3786"
             ],
             [
              0.5555555555555556,
              "#d8576b"
             ],
             [
              0.6666666666666666,
              "#ed7953"
             ],
             [
              0.7777777777777778,
              "#fb9f3a"
             ],
             [
              0.8888888888888888,
              "#fdca26"
             ],
             [
              1,
              "#f0f921"
             ]
            ],
            "type": "surface"
           }
          ],
          "table": [
           {
            "cells": {
             "fill": {
              "color": "#EBF0F8"
             },
             "line": {
              "color": "white"
             }
            },
            "header": {
             "fill": {
              "color": "#C8D4E3"
             },
             "line": {
              "color": "white"
             }
            },
            "type": "table"
           }
          ]
         },
         "layout": {
          "annotationdefaults": {
           "arrowcolor": "#2a3f5f",
           "arrowhead": 0,
           "arrowwidth": 1
          },
          "autotypenumbers": "strict",
          "coloraxis": {
           "colorbar": {
            "outlinewidth": 0,
            "ticks": ""
           }
          },
          "colorscale": {
           "diverging": [
            [
             0,
             "#8e0152"
            ],
            [
             0.1,
             "#c51b7d"
            ],
            [
             0.2,
             "#de77ae"
            ],
            [
             0.3,
             "#f1b6da"
            ],
            [
             0.4,
             "#fde0ef"
            ],
            [
             0.5,
             "#f7f7f7"
            ],
            [
             0.6,
             "#e6f5d0"
            ],
            [
             0.7,
             "#b8e186"
            ],
            [
             0.8,
             "#7fbc41"
            ],
            [
             0.9,
             "#4d9221"
            ],
            [
             1,
             "#276419"
            ]
           ],
           "sequential": [
            [
             0,
             "#0d0887"
            ],
            [
             0.1111111111111111,
             "#46039f"
            ],
            [
             0.2222222222222222,
             "#7201a8"
            ],
            [
             0.3333333333333333,
             "#9c179e"
            ],
            [
             0.4444444444444444,
             "#bd3786"
            ],
            [
             0.5555555555555556,
             "#d8576b"
            ],
            [
             0.6666666666666666,
             "#ed7953"
            ],
            [
             0.7777777777777778,
             "#fb9f3a"
            ],
            [
             0.8888888888888888,
             "#fdca26"
            ],
            [
             1,
             "#f0f921"
            ]
           ],
           "sequentialminus": [
            [
             0,
             "#0d0887"
            ],
            [
             0.1111111111111111,
             "#46039f"
            ],
            [
             0.2222222222222222,
             "#7201a8"
            ],
            [
             0.3333333333333333,
             "#9c179e"
            ],
            [
             0.4444444444444444,
             "#bd3786"
            ],
            [
             0.5555555555555556,
             "#d8576b"
            ],
            [
             0.6666666666666666,
             "#ed7953"
            ],
            [
             0.7777777777777778,
             "#fb9f3a"
            ],
            [
             0.8888888888888888,
             "#fdca26"
            ],
            [
             1,
             "#f0f921"
            ]
           ]
          },
          "colorway": [
           "#636efa",
           "#EF553B",
           "#00cc96",
           "#ab63fa",
           "#FFA15A",
           "#19d3f3",
           "#FF6692",
           "#B6E880",
           "#FF97FF",
           "#FECB52"
          ],
          "font": {
           "color": "#2a3f5f"
          },
          "geo": {
           "bgcolor": "white",
           "lakecolor": "white",
           "landcolor": "#E5ECF6",
           "showlakes": true,
           "showland": true,
           "subunitcolor": "white"
          },
          "hoverlabel": {
           "align": "left"
          },
          "hovermode": "closest",
          "mapbox": {
           "style": "light"
          },
          "paper_bgcolor": "white",
          "plot_bgcolor": "#E5ECF6",
          "polar": {
           "angularaxis": {
            "gridcolor": "white",
            "linecolor": "white",
            "ticks": ""
           },
           "bgcolor": "#E5ECF6",
           "radialaxis": {
            "gridcolor": "white",
            "linecolor": "white",
            "ticks": ""
           }
          },
          "scene": {
           "xaxis": {
            "backgroundcolor": "#E5ECF6",
            "gridcolor": "white",
            "gridwidth": 2,
            "linecolor": "white",
            "showbackground": true,
            "ticks": "",
            "zerolinecolor": "white"
           },
           "yaxis": {
            "backgroundcolor": "#E5ECF6",
            "gridcolor": "white",
            "gridwidth": 2,
            "linecolor": "white",
            "showbackground": true,
            "ticks": "",
            "zerolinecolor": "white"
           },
           "zaxis": {
            "backgroundcolor": "#E5ECF6",
            "gridcolor": "white",
            "gridwidth": 2,
            "linecolor": "white",
            "showbackground": true,
            "ticks": "",
            "zerolinecolor": "white"
           }
          },
          "shapedefaults": {
           "line": {
            "color": "#2a3f5f"
           }
          },
          "ternary": {
           "aaxis": {
            "gridcolor": "white",
            "linecolor": "white",
            "ticks": ""
           },
           "baxis": {
            "gridcolor": "white",
            "linecolor": "white",
            "ticks": ""
           },
           "bgcolor": "#E5ECF6",
           "caxis": {
            "gridcolor": "white",
            "linecolor": "white",
            "ticks": ""
           }
          },
          "title": {
           "x": 0.05
          },
          "xaxis": {
           "automargin": true,
           "gridcolor": "white",
           "linecolor": "white",
           "ticks": "",
           "title": {
            "standoff": 15
           },
           "zerolinecolor": "white",
           "zerolinewidth": 2
          },
          "yaxis": {
           "automargin": true,
           "gridcolor": "white",
           "linecolor": "white",
           "ticks": "",
           "title": {
            "standoff": 15
           },
           "zerolinecolor": "white",
           "zerolinewidth": 2
          }
         }
        },
        "title": {
         "text": "Missing Values"
        }
       }
      },
      "text/html": [
       "<div>                            <div id=\"84f9f43d-a217-401c-9792-0a0f367beb23\" class=\"plotly-graph-div\" style=\"height:525px; width:100%;\"></div>            <script type=\"text/javascript\">                require([\"plotly\"], function(Plotly) {                    window.PLOTLYENV=window.PLOTLYENV || {};                                    if (document.getElementById(\"84f9f43d-a217-401c-9792-0a0f367beb23\")) {                    Plotly.newPlot(                        \"84f9f43d-a217-401c-9792-0a0f367beb23\",                        [{\"marker\": {\"color\": \"lightgrey\", \"line\": {\"color\": \"#000000\", \"width\": 1.5}}, \"opacity\": 0.8, \"type\": \"bar\", \"x\": [\"id\", \"diagnosis\", \"radius_mean\", \"texture_mean\", \"perimeter_mean\", \"area_mean\", \"smoothness_mean\", \"compactness_mean\", \"concavity_mean\", \"concave points_mean\", \"symmetry_mean\", \"fractal_dimension_mean\", \"radius_se\", \"texture_se\", \"perimeter_se\", \"area_se\", \"smoothness_se\", \"compactness_se\", \"concavity_se\", \"concave points_se\", \"symmetry_se\", \"fractal_dimension_se\", \"radius_worst\", \"texture_worst\", \"perimeter_worst\", \"area_worst\", \"smoothness_worst\", \"compactness_worst\", \"concavity_worst\", \"concave points_worst\", \"symmetry_worst\", \"fractal_dimension_worst\", \"Unnamed: 32\"], \"y\": [569, 569, 569, 569, 569, 569, 569, 569, 569, 569, 569, 569, 569, 569, 569, 569, 569, 569, 569, 569, 569, 569, 569, 569, 569, 569, 569, 569, 569, 569, 569, 569, 0]}],                        {\"template\": {\"data\": {\"bar\": [{\"error_x\": {\"color\": \"#2a3f5f\"}, \"error_y\": {\"color\": \"#2a3f5f\"}, \"marker\": {\"line\": {\"color\": \"#E5ECF6\", \"width\": 0.5}}, \"type\": \"bar\"}], \"barpolar\": [{\"marker\": {\"line\": {\"color\": \"#E5ECF6\", \"width\": 0.5}}, \"type\": \"barpolar\"}], \"carpet\": [{\"aaxis\": {\"endlinecolor\": \"#2a3f5f\", \"gridcolor\": \"white\", \"linecolor\": \"white\", \"minorgridcolor\": \"white\", \"startlinecolor\": \"#2a3f5f\"}, \"baxis\": {\"endlinecolor\": \"#2a3f5f\", \"gridcolor\": \"white\", \"linecolor\": \"white\", \"minorgridcolor\": \"white\", \"startlinecolor\": \"#2a3f5f\"}, \"type\": \"carpet\"}], \"choropleth\": [{\"colorbar\": {\"outlinewidth\": 0, \"ticks\": \"\"}, \"type\": \"choropleth\"}], \"contour\": [{\"colorbar\": {\"outlinewidth\": 0, \"ticks\": \"\"}, \"colorscale\": [[0.0, \"#0d0887\"], [0.1111111111111111, \"#46039f\"], [0.2222222222222222, \"#7201a8\"], [0.3333333333333333, \"#9c179e\"], [0.4444444444444444, \"#bd3786\"], [0.5555555555555556, \"#d8576b\"], [0.6666666666666666, \"#ed7953\"], [0.7777777777777778, \"#fb9f3a\"], [0.8888888888888888, \"#fdca26\"], [1.0, \"#f0f921\"]], \"type\": \"contour\"}], \"contourcarpet\": [{\"colorbar\": {\"outlinewidth\": 0, \"ticks\": \"\"}, \"type\": \"contourcarpet\"}], \"heatmap\": [{\"colorbar\": {\"outlinewidth\": 0, \"ticks\": \"\"}, \"colorscale\": [[0.0, \"#0d0887\"], [0.1111111111111111, \"#46039f\"], [0.2222222222222222, \"#7201a8\"], [0.3333333333333333, \"#9c179e\"], [0.4444444444444444, \"#bd3786\"], [0.5555555555555556, \"#d8576b\"], [0.6666666666666666, \"#ed7953\"], [0.7777777777777778, \"#fb9f3a\"], [0.8888888888888888, \"#fdca26\"], [1.0, \"#f0f921\"]], \"type\": \"heatmap\"}], \"heatmapgl\": [{\"colorbar\": {\"outlinewidth\": 0, \"ticks\": \"\"}, \"colorscale\": [[0.0, \"#0d0887\"], [0.1111111111111111, \"#46039f\"], [0.2222222222222222, \"#7201a8\"], [0.3333333333333333, \"#9c179e\"], [0.4444444444444444, \"#bd3786\"], [0.5555555555555556, \"#d8576b\"], [0.6666666666666666, \"#ed7953\"], [0.7777777777777778, \"#fb9f3a\"], [0.8888888888888888, \"#fdca26\"], [1.0, \"#f0f921\"]], \"type\": \"heatmapgl\"}], \"histogram\": [{\"marker\": {\"colorbar\": {\"outlinewidth\": 0, \"ticks\": \"\"}}, \"type\": \"histogram\"}], \"histogram2d\": [{\"colorbar\": {\"outlinewidth\": 0, \"ticks\": \"\"}, \"colorscale\": [[0.0, \"#0d0887\"], [0.1111111111111111, \"#46039f\"], [0.2222222222222222, \"#7201a8\"], [0.3333333333333333, \"#9c179e\"], [0.4444444444444444, \"#bd3786\"], [0.5555555555555556, \"#d8576b\"], [0.6666666666666666, \"#ed7953\"], [0.7777777777777778, \"#fb9f3a\"], [0.8888888888888888, \"#fdca26\"], [1.0, \"#f0f921\"]], \"type\": \"histogram2d\"}], \"histogram2dcontour\": [{\"colorbar\": {\"outlinewidth\": 0, \"ticks\": \"\"}, \"colorscale\": [[0.0, \"#0d0887\"], [0.1111111111111111, \"#46039f\"], [0.2222222222222222, \"#7201a8\"], [0.3333333333333333, \"#9c179e\"], [0.4444444444444444, \"#bd3786\"], [0.5555555555555556, \"#d8576b\"], [0.6666666666666666, \"#ed7953\"], [0.7777777777777778, \"#fb9f3a\"], [0.8888888888888888, \"#fdca26\"], [1.0, \"#f0f921\"]], \"type\": \"histogram2dcontour\"}], \"mesh3d\": [{\"colorbar\": {\"outlinewidth\": 0, \"ticks\": \"\"}, \"type\": \"mesh3d\"}], \"parcoords\": [{\"line\": {\"colorbar\": {\"outlinewidth\": 0, \"ticks\": \"\"}}, \"type\": \"parcoords\"}], \"pie\": [{\"automargin\": true, \"type\": \"pie\"}], \"scatter\": [{\"marker\": {\"colorbar\": {\"outlinewidth\": 0, \"ticks\": \"\"}}, \"type\": \"scatter\"}], \"scatter3d\": [{\"line\": {\"colorbar\": {\"outlinewidth\": 0, \"ticks\": \"\"}}, \"marker\": {\"colorbar\": {\"outlinewidth\": 0, \"ticks\": \"\"}}, \"type\": \"scatter3d\"}], \"scattercarpet\": [{\"marker\": {\"colorbar\": {\"outlinewidth\": 0, \"ticks\": \"\"}}, \"type\": \"scattercarpet\"}], \"scattergeo\": [{\"marker\": {\"colorbar\": {\"outlinewidth\": 0, \"ticks\": \"\"}}, \"type\": \"scattergeo\"}], \"scattergl\": [{\"marker\": {\"colorbar\": {\"outlinewidth\": 0, \"ticks\": \"\"}}, \"type\": \"scattergl\"}], \"scattermapbox\": [{\"marker\": {\"colorbar\": {\"outlinewidth\": 0, \"ticks\": \"\"}}, \"type\": \"scattermapbox\"}], \"scatterpolar\": [{\"marker\": {\"colorbar\": {\"outlinewidth\": 0, \"ticks\": \"\"}}, \"type\": \"scatterpolar\"}], \"scatterpolargl\": [{\"marker\": {\"colorbar\": {\"outlinewidth\": 0, \"ticks\": \"\"}}, \"type\": \"scatterpolargl\"}], \"scatterternary\": [{\"marker\": {\"colorbar\": {\"outlinewidth\": 0, \"ticks\": \"\"}}, \"type\": \"scatterternary\"}], \"surface\": [{\"colorbar\": {\"outlinewidth\": 0, \"ticks\": \"\"}, \"colorscale\": [[0.0, \"#0d0887\"], [0.1111111111111111, \"#46039f\"], [0.2222222222222222, \"#7201a8\"], [0.3333333333333333, \"#9c179e\"], [0.4444444444444444, \"#bd3786\"], [0.5555555555555556, \"#d8576b\"], [0.6666666666666666, \"#ed7953\"], [0.7777777777777778, \"#fb9f3a\"], [0.8888888888888888, \"#fdca26\"], [1.0, \"#f0f921\"]], \"type\": \"surface\"}], \"table\": [{\"cells\": {\"fill\": {\"color\": \"#EBF0F8\"}, \"line\": {\"color\": \"white\"}}, \"header\": {\"fill\": {\"color\": \"#C8D4E3\"}, \"line\": {\"color\": \"white\"}}, \"type\": \"table\"}]}, \"layout\": {\"annotationdefaults\": {\"arrowcolor\": \"#2a3f5f\", \"arrowhead\": 0, \"arrowwidth\": 1}, \"autotypenumbers\": \"strict\", \"coloraxis\": {\"colorbar\": {\"outlinewidth\": 0, \"ticks\": \"\"}}, \"colorscale\": {\"diverging\": [[0, \"#8e0152\"], [0.1, \"#c51b7d\"], [0.2, \"#de77ae\"], [0.3, \"#f1b6da\"], [0.4, \"#fde0ef\"], [0.5, \"#f7f7f7\"], [0.6, \"#e6f5d0\"], [0.7, \"#b8e186\"], [0.8, \"#7fbc41\"], [0.9, \"#4d9221\"], [1, \"#276419\"]], \"sequential\": [[0.0, \"#0d0887\"], [0.1111111111111111, \"#46039f\"], [0.2222222222222222, \"#7201a8\"], [0.3333333333333333, \"#9c179e\"], [0.4444444444444444, \"#bd3786\"], [0.5555555555555556, \"#d8576b\"], [0.6666666666666666, \"#ed7953\"], [0.7777777777777778, \"#fb9f3a\"], [0.8888888888888888, \"#fdca26\"], [1.0, \"#f0f921\"]], \"sequentialminus\": [[0.0, \"#0d0887\"], [0.1111111111111111, \"#46039f\"], [0.2222222222222222, \"#7201a8\"], [0.3333333333333333, \"#9c179e\"], [0.4444444444444444, \"#bd3786\"], [0.5555555555555556, \"#d8576b\"], [0.6666666666666666, \"#ed7953\"], [0.7777777777777778, \"#fb9f3a\"], [0.8888888888888888, \"#fdca26\"], [1.0, \"#f0f921\"]]}, \"colorway\": [\"#636efa\", \"#EF553B\", \"#00cc96\", \"#ab63fa\", \"#FFA15A\", \"#19d3f3\", \"#FF6692\", \"#B6E880\", \"#FF97FF\", \"#FECB52\"], \"font\": {\"color\": \"#2a3f5f\"}, \"geo\": {\"bgcolor\": \"white\", \"lakecolor\": \"white\", \"landcolor\": \"#E5ECF6\", \"showlakes\": true, \"showland\": true, \"subunitcolor\": \"white\"}, \"hoverlabel\": {\"align\": \"left\"}, \"hovermode\": \"closest\", \"mapbox\": {\"style\": \"light\"}, \"paper_bgcolor\": \"white\", \"plot_bgcolor\": \"#E5ECF6\", \"polar\": {\"angularaxis\": {\"gridcolor\": \"white\", \"linecolor\": \"white\", \"ticks\": \"\"}, \"bgcolor\": \"#E5ECF6\", \"radialaxis\": {\"gridcolor\": \"white\", \"linecolor\": \"white\", \"ticks\": \"\"}}, \"scene\": {\"xaxis\": {\"backgroundcolor\": \"#E5ECF6\", \"gridcolor\": \"white\", \"gridwidth\": 2, \"linecolor\": \"white\", \"showbackground\": true, \"ticks\": \"\", \"zerolinecolor\": \"white\"}, \"yaxis\": {\"backgroundcolor\": \"#E5ECF6\", \"gridcolor\": \"white\", \"gridwidth\": 2, \"linecolor\": \"white\", \"showbackground\": true, \"ticks\": \"\", \"zerolinecolor\": \"white\"}, \"zaxis\": {\"backgroundcolor\": \"#E5ECF6\", \"gridcolor\": \"white\", \"gridwidth\": 2, \"linecolor\": \"white\", \"showbackground\": true, \"ticks\": \"\", \"zerolinecolor\": \"white\"}}, \"shapedefaults\": {\"line\": {\"color\": \"#2a3f5f\"}}, \"ternary\": {\"aaxis\": {\"gridcolor\": \"white\", \"linecolor\": \"white\", \"ticks\": \"\"}, \"baxis\": {\"gridcolor\": \"white\", \"linecolor\": \"white\", \"ticks\": \"\"}, \"bgcolor\": \"#E5ECF6\", \"caxis\": {\"gridcolor\": \"white\", \"linecolor\": \"white\", \"ticks\": \"\"}}, \"title\": {\"x\": 0.05}, \"xaxis\": {\"automargin\": true, \"gridcolor\": \"white\", \"linecolor\": \"white\", \"ticks\": \"\", \"title\": {\"standoff\": 15}, \"zerolinecolor\": \"white\", \"zerolinewidth\": 2}, \"yaxis\": {\"automargin\": true, \"gridcolor\": \"white\", \"linecolor\": \"white\", \"ticks\": \"\", \"title\": {\"standoff\": 15}, \"zerolinecolor\": \"white\", \"zerolinewidth\": 2}}}, \"title\": {\"text\": \"Missing Values\"}},                        {\"responsive\": true}                    ).then(function(){\n",
       "                            \n",
       "var gd = document.getElementById('84f9f43d-a217-401c-9792-0a0f367beb23');\n",
       "var x = new MutationObserver(function (mutations, observer) {{\n",
       "        var display = window.getComputedStyle(gd).display;\n",
       "        if (!display || display === 'none') {{\n",
       "            console.log([gd, 'removed!']);\n",
       "            Plotly.purge(gd);\n",
       "            observer.disconnect();\n",
       "        }}\n",
       "}});\n",
       "\n",
       "// Listen for the removal of the full notebook cells\n",
       "var notebookContainer = gd.closest('#notebook-container');\n",
       "if (notebookContainer) {{\n",
       "    x.observe(notebookContainer, {childList: true});\n",
       "}}\n",
       "\n",
       "// Listen for the clearing of the current output cell\n",
       "var outputEl = gd.closest('.output');\n",
       "if (outputEl) {{\n",
       "    x.observe(outputEl, {childList: true});\n",
       "}}\n",
       "\n",
       "                        })                };                });            </script>        </div>"
      ]
     },
     "metadata": {},
     "output_type": "display_data"
    }
   ],
   "source": [
    "null_feat = pd.DataFrame(len(data['id']) - data.isnull().sum(), columns = ['Count'])\n",
    "\n",
    "trace = go.Bar(x = null_feat.index, y = null_feat['Count'] ,opacity = 0.8, marker=dict(color = 'lightgrey',\n",
    "        line=dict(color='#000000',width=1.5)))\n",
    "\n",
    "layout = dict(title =  \"Missing Values\")\n",
    "                    \n",
    "fig = dict(data = [trace], layout=layout)\n",
    "py.iplot(fig)"
   ]
  },
  {
   "cell_type": "code",
   "execution_count": 6,
   "metadata": {},
   "outputs": [],
   "source": [
    "data = data.drop(['Unnamed: 32','id'],axis = 1)\n",
    "\n",
    "# Reassign target\n",
    "data.diagnosis.replace(to_replace = dict(M = 1, B = 0), inplace = True)"
   ]
  },
  {
   "cell_type": "code",
   "execution_count": 7,
   "metadata": {},
   "outputs": [
    {
     "data": {
      "text/html": [
       "<div>\n",
       "<style scoped>\n",
       "    .dataframe tbody tr th:only-of-type {\n",
       "        vertical-align: middle;\n",
       "    }\n",
       "\n",
       "    .dataframe tbody tr th {\n",
       "        vertical-align: top;\n",
       "    }\n",
       "\n",
       "    .dataframe thead th {\n",
       "        text-align: right;\n",
       "    }\n",
       "</style>\n",
       "<table border=\"1\" class=\"dataframe\">\n",
       "  <thead>\n",
       "    <tr style=\"text-align: right;\">\n",
       "      <th></th>\n",
       "      <th>diagnosis</th>\n",
       "      <th>radius_mean</th>\n",
       "      <th>texture_mean</th>\n",
       "      <th>perimeter_mean</th>\n",
       "      <th>area_mean</th>\n",
       "      <th>smoothness_mean</th>\n",
       "      <th>compactness_mean</th>\n",
       "      <th>concavity_mean</th>\n",
       "      <th>concave points_mean</th>\n",
       "      <th>symmetry_mean</th>\n",
       "      <th>...</th>\n",
       "      <th>radius_worst</th>\n",
       "      <th>texture_worst</th>\n",
       "      <th>perimeter_worst</th>\n",
       "      <th>area_worst</th>\n",
       "      <th>smoothness_worst</th>\n",
       "      <th>compactness_worst</th>\n",
       "      <th>concavity_worst</th>\n",
       "      <th>concave points_worst</th>\n",
       "      <th>symmetry_worst</th>\n",
       "      <th>fractal_dimension_worst</th>\n",
       "    </tr>\n",
       "  </thead>\n",
       "  <tbody>\n",
       "    <tr>\n",
       "      <th>0</th>\n",
       "      <td>1</td>\n",
       "      <td>17.99</td>\n",
       "      <td>10.38</td>\n",
       "      <td>122.80</td>\n",
       "      <td>1001.0</td>\n",
       "      <td>0.11840</td>\n",
       "      <td>0.27760</td>\n",
       "      <td>0.3001</td>\n",
       "      <td>0.14710</td>\n",
       "      <td>0.2419</td>\n",
       "      <td>...</td>\n",
       "      <td>25.38</td>\n",
       "      <td>17.33</td>\n",
       "      <td>184.60</td>\n",
       "      <td>2019.0</td>\n",
       "      <td>0.1622</td>\n",
       "      <td>0.6656</td>\n",
       "      <td>0.7119</td>\n",
       "      <td>0.2654</td>\n",
       "      <td>0.4601</td>\n",
       "      <td>0.11890</td>\n",
       "    </tr>\n",
       "    <tr>\n",
       "      <th>1</th>\n",
       "      <td>1</td>\n",
       "      <td>20.57</td>\n",
       "      <td>17.77</td>\n",
       "      <td>132.90</td>\n",
       "      <td>1326.0</td>\n",
       "      <td>0.08474</td>\n",
       "      <td>0.07864</td>\n",
       "      <td>0.0869</td>\n",
       "      <td>0.07017</td>\n",
       "      <td>0.1812</td>\n",
       "      <td>...</td>\n",
       "      <td>24.99</td>\n",
       "      <td>23.41</td>\n",
       "      <td>158.80</td>\n",
       "      <td>1956.0</td>\n",
       "      <td>0.1238</td>\n",
       "      <td>0.1866</td>\n",
       "      <td>0.2416</td>\n",
       "      <td>0.1860</td>\n",
       "      <td>0.2750</td>\n",
       "      <td>0.08902</td>\n",
       "    </tr>\n",
       "    <tr>\n",
       "      <th>2</th>\n",
       "      <td>1</td>\n",
       "      <td>19.69</td>\n",
       "      <td>21.25</td>\n",
       "      <td>130.00</td>\n",
       "      <td>1203.0</td>\n",
       "      <td>0.10960</td>\n",
       "      <td>0.15990</td>\n",
       "      <td>0.1974</td>\n",
       "      <td>0.12790</td>\n",
       "      <td>0.2069</td>\n",
       "      <td>...</td>\n",
       "      <td>23.57</td>\n",
       "      <td>25.53</td>\n",
       "      <td>152.50</td>\n",
       "      <td>1709.0</td>\n",
       "      <td>0.1444</td>\n",
       "      <td>0.4245</td>\n",
       "      <td>0.4504</td>\n",
       "      <td>0.2430</td>\n",
       "      <td>0.3613</td>\n",
       "      <td>0.08758</td>\n",
       "    </tr>\n",
       "    <tr>\n",
       "      <th>3</th>\n",
       "      <td>1</td>\n",
       "      <td>11.42</td>\n",
       "      <td>20.38</td>\n",
       "      <td>77.58</td>\n",
       "      <td>386.1</td>\n",
       "      <td>0.14250</td>\n",
       "      <td>0.28390</td>\n",
       "      <td>0.2414</td>\n",
       "      <td>0.10520</td>\n",
       "      <td>0.2597</td>\n",
       "      <td>...</td>\n",
       "      <td>14.91</td>\n",
       "      <td>26.50</td>\n",
       "      <td>98.87</td>\n",
       "      <td>567.7</td>\n",
       "      <td>0.2098</td>\n",
       "      <td>0.8663</td>\n",
       "      <td>0.6869</td>\n",
       "      <td>0.2575</td>\n",
       "      <td>0.6638</td>\n",
       "      <td>0.17300</td>\n",
       "    </tr>\n",
       "    <tr>\n",
       "      <th>4</th>\n",
       "      <td>1</td>\n",
       "      <td>20.29</td>\n",
       "      <td>14.34</td>\n",
       "      <td>135.10</td>\n",
       "      <td>1297.0</td>\n",
       "      <td>0.10030</td>\n",
       "      <td>0.13280</td>\n",
       "      <td>0.1980</td>\n",
       "      <td>0.10430</td>\n",
       "      <td>0.1809</td>\n",
       "      <td>...</td>\n",
       "      <td>22.54</td>\n",
       "      <td>16.67</td>\n",
       "      <td>152.20</td>\n",
       "      <td>1575.0</td>\n",
       "      <td>0.1374</td>\n",
       "      <td>0.2050</td>\n",
       "      <td>0.4000</td>\n",
       "      <td>0.1625</td>\n",
       "      <td>0.2364</td>\n",
       "      <td>0.07678</td>\n",
       "    </tr>\n",
       "  </tbody>\n",
       "</table>\n",
       "<p>5 rows × 31 columns</p>\n",
       "</div>"
      ],
      "text/plain": [
       "   diagnosis  radius_mean  texture_mean  perimeter_mean  area_mean  \\\n",
       "0          1        17.99         10.38          122.80     1001.0   \n",
       "1          1        20.57         17.77          132.90     1326.0   \n",
       "2          1        19.69         21.25          130.00     1203.0   \n",
       "3          1        11.42         20.38           77.58      386.1   \n",
       "4          1        20.29         14.34          135.10     1297.0   \n",
       "\n",
       "   smoothness_mean  compactness_mean  concavity_mean  concave points_mean  \\\n",
       "0          0.11840           0.27760          0.3001              0.14710   \n",
       "1          0.08474           0.07864          0.0869              0.07017   \n",
       "2          0.10960           0.15990          0.1974              0.12790   \n",
       "3          0.14250           0.28390          0.2414              0.10520   \n",
       "4          0.10030           0.13280          0.1980              0.10430   \n",
       "\n",
       "   symmetry_mean  ...  radius_worst  texture_worst  perimeter_worst  \\\n",
       "0         0.2419  ...         25.38          17.33           184.60   \n",
       "1         0.1812  ...         24.99          23.41           158.80   \n",
       "2         0.2069  ...         23.57          25.53           152.50   \n",
       "3         0.2597  ...         14.91          26.50            98.87   \n",
       "4         0.1809  ...         22.54          16.67           152.20   \n",
       "\n",
       "   area_worst  smoothness_worst  compactness_worst  concavity_worst  \\\n",
       "0      2019.0            0.1622             0.6656           0.7119   \n",
       "1      1956.0            0.1238             0.1866           0.2416   \n",
       "2      1709.0            0.1444             0.4245           0.4504   \n",
       "3       567.7            0.2098             0.8663           0.6869   \n",
       "4      1575.0            0.1374             0.2050           0.4000   \n",
       "\n",
       "   concave points_worst  symmetry_worst  fractal_dimension_worst  \n",
       "0                0.2654          0.4601                  0.11890  \n",
       "1                0.1860          0.2750                  0.08902  \n",
       "2                0.2430          0.3613                  0.08758  \n",
       "3                0.2575          0.6638                  0.17300  \n",
       "4                0.1625          0.2364                  0.07678  \n",
       "\n",
       "[5 rows x 31 columns]"
      ]
     },
     "execution_count": 7,
     "metadata": {},
     "output_type": "execute_result"
    }
   ],
   "source": [
    "data.head()"
   ]
  },
  {
   "cell_type": "code",
   "execution_count": 8,
   "metadata": {},
   "outputs": [
    {
     "data": {
      "text/html": [
       "<div>\n",
       "<style scoped>\n",
       "    .dataframe tbody tr th:only-of-type {\n",
       "        vertical-align: middle;\n",
       "    }\n",
       "\n",
       "    .dataframe tbody tr th {\n",
       "        vertical-align: top;\n",
       "    }\n",
       "\n",
       "    .dataframe thead th {\n",
       "        text-align: right;\n",
       "    }\n",
       "</style>\n",
       "<table border=\"1\" class=\"dataframe\">\n",
       "  <thead>\n",
       "    <tr style=\"text-align: right;\">\n",
       "      <th></th>\n",
       "      <th>diagnosis</th>\n",
       "      <th>radius_mean</th>\n",
       "      <th>texture_mean</th>\n",
       "      <th>perimeter_mean</th>\n",
       "      <th>area_mean</th>\n",
       "      <th>smoothness_mean</th>\n",
       "      <th>compactness_mean</th>\n",
       "      <th>concavity_mean</th>\n",
       "      <th>concave points_mean</th>\n",
       "      <th>symmetry_mean</th>\n",
       "      <th>...</th>\n",
       "      <th>radius_worst</th>\n",
       "      <th>texture_worst</th>\n",
       "      <th>perimeter_worst</th>\n",
       "      <th>area_worst</th>\n",
       "      <th>smoothness_worst</th>\n",
       "      <th>compactness_worst</th>\n",
       "      <th>concavity_worst</th>\n",
       "      <th>concave points_worst</th>\n",
       "      <th>symmetry_worst</th>\n",
       "      <th>fractal_dimension_worst</th>\n",
       "    </tr>\n",
       "  </thead>\n",
       "  <tbody>\n",
       "    <tr>\n",
       "      <th>count</th>\n",
       "      <td>569.000000</td>\n",
       "      <td>569.000000</td>\n",
       "      <td>569.000000</td>\n",
       "      <td>569.000000</td>\n",
       "      <td>569.000000</td>\n",
       "      <td>569.000000</td>\n",
       "      <td>569.000000</td>\n",
       "      <td>569.000000</td>\n",
       "      <td>569.000000</td>\n",
       "      <td>569.000000</td>\n",
       "      <td>...</td>\n",
       "      <td>569.000000</td>\n",
       "      <td>569.000000</td>\n",
       "      <td>569.000000</td>\n",
       "      <td>569.000000</td>\n",
       "      <td>569.000000</td>\n",
       "      <td>569.000000</td>\n",
       "      <td>569.000000</td>\n",
       "      <td>569.000000</td>\n",
       "      <td>569.000000</td>\n",
       "      <td>569.000000</td>\n",
       "    </tr>\n",
       "    <tr>\n",
       "      <th>mean</th>\n",
       "      <td>0.372583</td>\n",
       "      <td>14.127292</td>\n",
       "      <td>19.289649</td>\n",
       "      <td>91.969033</td>\n",
       "      <td>654.889104</td>\n",
       "      <td>0.096360</td>\n",
       "      <td>0.104341</td>\n",
       "      <td>0.088799</td>\n",
       "      <td>0.048919</td>\n",
       "      <td>0.181162</td>\n",
       "      <td>...</td>\n",
       "      <td>16.269190</td>\n",
       "      <td>25.677223</td>\n",
       "      <td>107.261213</td>\n",
       "      <td>880.583128</td>\n",
       "      <td>0.132369</td>\n",
       "      <td>0.254265</td>\n",
       "      <td>0.272188</td>\n",
       "      <td>0.114606</td>\n",
       "      <td>0.290076</td>\n",
       "      <td>0.083946</td>\n",
       "    </tr>\n",
       "    <tr>\n",
       "      <th>std</th>\n",
       "      <td>0.483918</td>\n",
       "      <td>3.524049</td>\n",
       "      <td>4.301036</td>\n",
       "      <td>24.298981</td>\n",
       "      <td>351.914129</td>\n",
       "      <td>0.014064</td>\n",
       "      <td>0.052813</td>\n",
       "      <td>0.079720</td>\n",
       "      <td>0.038803</td>\n",
       "      <td>0.027414</td>\n",
       "      <td>...</td>\n",
       "      <td>4.833242</td>\n",
       "      <td>6.146258</td>\n",
       "      <td>33.602542</td>\n",
       "      <td>569.356993</td>\n",
       "      <td>0.022832</td>\n",
       "      <td>0.157336</td>\n",
       "      <td>0.208624</td>\n",
       "      <td>0.065732</td>\n",
       "      <td>0.061867</td>\n",
       "      <td>0.018061</td>\n",
       "    </tr>\n",
       "    <tr>\n",
       "      <th>min</th>\n",
       "      <td>0.000000</td>\n",
       "      <td>6.981000</td>\n",
       "      <td>9.710000</td>\n",
       "      <td>43.790000</td>\n",
       "      <td>143.500000</td>\n",
       "      <td>0.052630</td>\n",
       "      <td>0.019380</td>\n",
       "      <td>0.000000</td>\n",
       "      <td>0.000000</td>\n",
       "      <td>0.106000</td>\n",
       "      <td>...</td>\n",
       "      <td>7.930000</td>\n",
       "      <td>12.020000</td>\n",
       "      <td>50.410000</td>\n",
       "      <td>185.200000</td>\n",
       "      <td>0.071170</td>\n",
       "      <td>0.027290</td>\n",
       "      <td>0.000000</td>\n",
       "      <td>0.000000</td>\n",
       "      <td>0.156500</td>\n",
       "      <td>0.055040</td>\n",
       "    </tr>\n",
       "    <tr>\n",
       "      <th>25%</th>\n",
       "      <td>0.000000</td>\n",
       "      <td>11.700000</td>\n",
       "      <td>16.170000</td>\n",
       "      <td>75.170000</td>\n",
       "      <td>420.300000</td>\n",
       "      <td>0.086370</td>\n",
       "      <td>0.064920</td>\n",
       "      <td>0.029560</td>\n",
       "      <td>0.020310</td>\n",
       "      <td>0.161900</td>\n",
       "      <td>...</td>\n",
       "      <td>13.010000</td>\n",
       "      <td>21.080000</td>\n",
       "      <td>84.110000</td>\n",
       "      <td>515.300000</td>\n",
       "      <td>0.116600</td>\n",
       "      <td>0.147200</td>\n",
       "      <td>0.114500</td>\n",
       "      <td>0.064930</td>\n",
       "      <td>0.250400</td>\n",
       "      <td>0.071460</td>\n",
       "    </tr>\n",
       "    <tr>\n",
       "      <th>50%</th>\n",
       "      <td>0.000000</td>\n",
       "      <td>13.370000</td>\n",
       "      <td>18.840000</td>\n",
       "      <td>86.240000</td>\n",
       "      <td>551.100000</td>\n",
       "      <td>0.095870</td>\n",
       "      <td>0.092630</td>\n",
       "      <td>0.061540</td>\n",
       "      <td>0.033500</td>\n",
       "      <td>0.179200</td>\n",
       "      <td>...</td>\n",
       "      <td>14.970000</td>\n",
       "      <td>25.410000</td>\n",
       "      <td>97.660000</td>\n",
       "      <td>686.500000</td>\n",
       "      <td>0.131300</td>\n",
       "      <td>0.211900</td>\n",
       "      <td>0.226700</td>\n",
       "      <td>0.099930</td>\n",
       "      <td>0.282200</td>\n",
       "      <td>0.080040</td>\n",
       "    </tr>\n",
       "    <tr>\n",
       "      <th>75%</th>\n",
       "      <td>1.000000</td>\n",
       "      <td>15.780000</td>\n",
       "      <td>21.800000</td>\n",
       "      <td>104.100000</td>\n",
       "      <td>782.700000</td>\n",
       "      <td>0.105300</td>\n",
       "      <td>0.130400</td>\n",
       "      <td>0.130700</td>\n",
       "      <td>0.074000</td>\n",
       "      <td>0.195700</td>\n",
       "      <td>...</td>\n",
       "      <td>18.790000</td>\n",
       "      <td>29.720000</td>\n",
       "      <td>125.400000</td>\n",
       "      <td>1084.000000</td>\n",
       "      <td>0.146000</td>\n",
       "      <td>0.339100</td>\n",
       "      <td>0.382900</td>\n",
       "      <td>0.161400</td>\n",
       "      <td>0.317900</td>\n",
       "      <td>0.092080</td>\n",
       "    </tr>\n",
       "    <tr>\n",
       "      <th>max</th>\n",
       "      <td>1.000000</td>\n",
       "      <td>28.110000</td>\n",
       "      <td>39.280000</td>\n",
       "      <td>188.500000</td>\n",
       "      <td>2501.000000</td>\n",
       "      <td>0.163400</td>\n",
       "      <td>0.345400</td>\n",
       "      <td>0.426800</td>\n",
       "      <td>0.201200</td>\n",
       "      <td>0.304000</td>\n",
       "      <td>...</td>\n",
       "      <td>36.040000</td>\n",
       "      <td>49.540000</td>\n",
       "      <td>251.200000</td>\n",
       "      <td>4254.000000</td>\n",
       "      <td>0.222600</td>\n",
       "      <td>1.058000</td>\n",
       "      <td>1.252000</td>\n",
       "      <td>0.291000</td>\n",
       "      <td>0.663800</td>\n",
       "      <td>0.207500</td>\n",
       "    </tr>\n",
       "  </tbody>\n",
       "</table>\n",
       "<p>8 rows × 31 columns</p>\n",
       "</div>"
      ],
      "text/plain": [
       "        diagnosis  radius_mean  texture_mean  perimeter_mean    area_mean  \\\n",
       "count  569.000000   569.000000    569.000000      569.000000   569.000000   \n",
       "mean     0.372583    14.127292     19.289649       91.969033   654.889104   \n",
       "std      0.483918     3.524049      4.301036       24.298981   351.914129   \n",
       "min      0.000000     6.981000      9.710000       43.790000   143.500000   \n",
       "25%      0.000000    11.700000     16.170000       75.170000   420.300000   \n",
       "50%      0.000000    13.370000     18.840000       86.240000   551.100000   \n",
       "75%      1.000000    15.780000     21.800000      104.100000   782.700000   \n",
       "max      1.000000    28.110000     39.280000      188.500000  2501.000000   \n",
       "\n",
       "       smoothness_mean  compactness_mean  concavity_mean  concave points_mean  \\\n",
       "count       569.000000        569.000000      569.000000           569.000000   \n",
       "mean          0.096360          0.104341        0.088799             0.048919   \n",
       "std           0.014064          0.052813        0.079720             0.038803   \n",
       "min           0.052630          0.019380        0.000000             0.000000   \n",
       "25%           0.086370          0.064920        0.029560             0.020310   \n",
       "50%           0.095870          0.092630        0.061540             0.033500   \n",
       "75%           0.105300          0.130400        0.130700             0.074000   \n",
       "max           0.163400          0.345400        0.426800             0.201200   \n",
       "\n",
       "       symmetry_mean  ...  radius_worst  texture_worst  perimeter_worst  \\\n",
       "count     569.000000  ...    569.000000     569.000000       569.000000   \n",
       "mean        0.181162  ...     16.269190      25.677223       107.261213   \n",
       "std         0.027414  ...      4.833242       6.146258        33.602542   \n",
       "min         0.106000  ...      7.930000      12.020000        50.410000   \n",
       "25%         0.161900  ...     13.010000      21.080000        84.110000   \n",
       "50%         0.179200  ...     14.970000      25.410000        97.660000   \n",
       "75%         0.195700  ...     18.790000      29.720000       125.400000   \n",
       "max         0.304000  ...     36.040000      49.540000       251.200000   \n",
       "\n",
       "        area_worst  smoothness_worst  compactness_worst  concavity_worst  \\\n",
       "count   569.000000        569.000000         569.000000       569.000000   \n",
       "mean    880.583128          0.132369           0.254265         0.272188   \n",
       "std     569.356993          0.022832           0.157336         0.208624   \n",
       "min     185.200000          0.071170           0.027290         0.000000   \n",
       "25%     515.300000          0.116600           0.147200         0.114500   \n",
       "50%     686.500000          0.131300           0.211900         0.226700   \n",
       "75%    1084.000000          0.146000           0.339100         0.382900   \n",
       "max    4254.000000          0.222600           1.058000         1.252000   \n",
       "\n",
       "       concave points_worst  symmetry_worst  fractal_dimension_worst  \n",
       "count            569.000000      569.000000               569.000000  \n",
       "mean               0.114606        0.290076                 0.083946  \n",
       "std                0.065732        0.061867                 0.018061  \n",
       "min                0.000000        0.156500                 0.055040  \n",
       "25%                0.064930        0.250400                 0.071460  \n",
       "50%                0.099930        0.282200                 0.080040  \n",
       "75%                0.161400        0.317900                 0.092080  \n",
       "max                0.291000        0.663800                 0.207500  \n",
       "\n",
       "[8 rows x 31 columns]"
      ]
     },
     "execution_count": 8,
     "metadata": {},
     "output_type": "execute_result"
    }
   ],
   "source": [
    "data.describe()"
   ]
  },
  {
   "cell_type": "code",
   "execution_count": 9,
   "metadata": {},
   "outputs": [],
   "source": [
    "correlation = data.corr()\n",
    "#tick labels\n",
    "matrix_cols = correlation.columns.tolist()\n",
    "#convert to array\n",
    "corr_array  = np.array(correlation)\n"
   ]
  },
  {
   "cell_type": "code",
   "execution_count": 10,
   "metadata": {},
   "outputs": [
    {
     "data": {
      "application/vnd.plotly.v1+json": {
       "config": {
        "linkText": "Export to plot.ly",
        "plotlyServerURL": "https://plot.ly",
        "showLink": false
       },
       "data": [
        {
         "colorscale": [
          [
           0,
           "#440154"
          ],
          [
           0.1111111111111111,
           "#482878"
          ],
          [
           0.2222222222222222,
           "#3e4989"
          ],
          [
           0.3333333333333333,
           "#31688e"
          ],
          [
           0.4444444444444444,
           "#26828e"
          ],
          [
           0.5555555555555556,
           "#1f9e89"
          ],
          [
           0.6666666666666666,
           "#35b779"
          ],
          [
           0.7777777777777778,
           "#6ece58"
          ],
          [
           0.8888888888888888,
           "#b5de2b"
          ],
          [
           1,
           "#fde725"
          ]
         ],
         "type": "heatmap",
         "x": [
          "diagnosis",
          "radius_mean",
          "texture_mean",
          "perimeter_mean",
          "area_mean",
          "smoothness_mean",
          "compactness_mean",
          "concavity_mean",
          "concave points_mean",
          "symmetry_mean",
          "fractal_dimension_mean",
          "radius_se",
          "texture_se",
          "perimeter_se",
          "area_se",
          "smoothness_se",
          "compactness_se",
          "concavity_se",
          "concave points_se",
          "symmetry_se",
          "fractal_dimension_se",
          "radius_worst",
          "texture_worst",
          "perimeter_worst",
          "area_worst",
          "smoothness_worst",
          "compactness_worst",
          "concavity_worst",
          "concave points_worst",
          "symmetry_worst",
          "fractal_dimension_worst"
         ],
         "xgap": 2,
         "y": [
          "diagnosis",
          "radius_mean",
          "texture_mean",
          "perimeter_mean",
          "area_mean",
          "smoothness_mean",
          "compactness_mean",
          "concavity_mean",
          "concave points_mean",
          "symmetry_mean",
          "fractal_dimension_mean",
          "radius_se",
          "texture_se",
          "perimeter_se",
          "area_se",
          "smoothness_se",
          "compactness_se",
          "concavity_se",
          "concave points_se",
          "symmetry_se",
          "fractal_dimension_se",
          "radius_worst",
          "texture_worst",
          "perimeter_worst",
          "area_worst",
          "smoothness_worst",
          "compactness_worst",
          "concavity_worst",
          "concave points_worst",
          "symmetry_worst",
          "fractal_dimension_worst"
         ],
         "ygap": 2,
         "z": [
          [
           1,
           0.7300285113754569,
           0.4151852998452046,
           0.742635529725833,
           0.7089838365853909,
           0.3585599650859322,
           0.5965336775082529,
           0.6963597071719053,
           0.7766138400204361,
           0.3304985542625467,
           -0.012837602698432364,
           0.5671338208247176,
           -0.008303332973877434,
           0.5561407034314833,
           0.5482359402780249,
           -0.06701601057948744,
           0.2929992442488583,
           0.2537297659808306,
           0.40804233271650514,
           -0.006521755870647959,
           0.0779724173902561,
           0.7764537785950388,
           0.4569028213967982,
           0.782914137173759,
           0.7338250349210516,
           0.4214648610664031,
           0.5909982378417925,
           0.6596102103692344,
           0.7935660171412696,
           0.41629431104861897,
           0.3238721887208239
          ],
          [
           0.7300285113754569,
           1,
           0.32378189092773274,
           0.9978552814938113,
           0.9873571700566119,
           0.17058118749299475,
           0.5061235775263626,
           0.6767635503908116,
           0.8225285223871791,
           0.14774124199260222,
           -0.3116308263092901,
           0.6790903880020752,
           -0.09731744314481341,
           0.6741716157641062,
           0.7358636632128175,
           -0.22260012458211118,
           0.20599998040769918,
           0.194203622761509,
           0.3761689559399256,
           -0.10432088141786555,
           -0.04264126911445617,
           0.9695389726112053,
           0.2970076439863734,
           0.9651365139559878,
           0.9410824595860459,
           0.1196161399216085,
           0.4134628230608023,
           0.5269114618385443,
           0.7442141978674656,
           0.16395333493630726,
           0.007065885692182505
          ],
          [
           0.4151852998452046,
           0.32378189092773274,
           1,
           0.3295330586865708,
           0.321085696080207,
           -0.02338851599842355,
           0.2367022220743719,
           0.3024178279438913,
           0.29346405131394243,
           0.07140098048331711,
           -0.07643718344813386,
           0.27586867617376215,
           0.3863576227244903,
           0.28167311478720247,
           0.2598449866100983,
           0.006613777353585289,
           0.19197461132396662,
           0.14329307656049847,
           0.16385102528521825,
           0.009127167755036037,
           0.054457519568933646,
           0.3525729471502958,
           0.9120445888404215,
           0.35803957505322437,
           0.3435459471864692,
           0.07750335882212896,
           0.2778295924789796,
           0.3010252238164908,
           0.2953158433377365,
           0.10500791031597177,
           0.11920535139708544
          ],
          [
           0.742635529725833,
           0.9978552814938113,
           0.3295330586865708,
           1,
           0.9865068039913906,
           0.20727816369100655,
           0.556936210879562,
           0.7161356501174044,
           0.8509770412528199,
           0.18302721211685288,
           -0.2614769080663339,
           0.6917650135334821,
           -0.08676107831179487,
           0.693134889540866,
           0.7449826941190679,
           -0.2026940262983221,
           0.2507436807405883,
           0.2280823453936579,
           0.4072169159986187,
           -0.08162932702839946,
           -0.005523391057003975,
           0.9694763634663142,
           0.30303837155714997,
           0.9703868870426388,
           0.9415498080023057,
           0.1505494043170372,
           0.455774228038327,
           0.5638792634736616,
           0.7712407893605479,
           0.18911504046245725,
           0.05101852972340659
          ],
          [
           0.7089838365853909,
           0.9873571700566119,
           0.321085696080207,
           0.9865068039913906,
           1,
           0.1770283772540013,
           0.49850168215241164,
           0.6859828285519113,
           0.823268868652435,
           0.1512930790351123,
           -0.2831098116914262,
           0.7325622269972976,
           -0.06628021360457748,
           0.7266283277906854,
           0.8000859212343217,
           -0.16677666660111248,
           0.2125825507792329,
           0.20766006048256938,
           0.37232028233071035,
           -0.07249658821176269,
           -0.01988696323506802,
           0.9627460860470841,
           0.2874886271213974,
           0.959119574355266,
           0.9592133256499006,
           0.12352293875557119,
           0.3904103092424995,
           0.5126059204433245,
           0.722016626260358,
           0.14356991388907145,
           0.0037375973515715428
          ],
          [
           0.3585599650859322,
           0.17058118749299475,
           -0.02338851599842355,
           0.20727816369100655,
           0.1770283772540013,
           1,
           0.6591232152159219,
           0.5219837677142599,
           0.5536951727437602,
           0.557774788072887,
           0.5847920019499777,
           0.3014670982531695,
           0.06840644817118242,
           0.2960919328935148,
           0.2465524316657357,
           0.3323754426475921,
           0.31894329670537885,
           0.24839567988255556,
           0.3806756909832853,
           0.20077437592048303,
           0.2836066985468849,
           0.2131201418959488,
           0.036071798785646245,
           0.2388526262091505,
           0.2067183634285763,
           0.8053241954943631,
           0.4724684437304436,
           0.4349257147250865,
           0.5030533532989501,
           0.39430948181175646,
           0.49931636859376605
          ],
          [
           0.5965336775082529,
           0.5061235775263626,
           0.2367022220743719,
           0.556936210879562,
           0.49850168215241164,
           0.6591232152159219,
           1,
           0.8831206701772499,
           0.8311350431336992,
           0.602641048405516,
           0.5653686634145229,
           0.4974734460850615,
           0.04620483071640686,
           0.5489052645888234,
           0.45565285198788913,
           0.13529926770047143,
           0.7387217896603926,
           0.5705168714898888,
           0.6422618509716465,
           0.22997659080143187,
           0.5073181269004221,
           0.5353153982176657,
           0.24813283327741745,
           0.590210427731298,
           0.5096038055579197,
           0.5655411663750876,
           0.8658090398022638,
           0.8162752498000281,
           0.8155732235690654,
           0.5102234299218059,
           0.6873823227538962
          ],
          [
           0.6963597071719053,
           0.6767635503908116,
           0.3024178279438913,
           0.7161356501174044,
           0.6859828285519113,
           0.5219837677142599,
           0.8831206701772499,
           1,
           0.9213910263788594,
           0.5006666171419625,
           0.3367833594211852,
           0.6319248221414899,
           0.07621834813534009,
           0.6603907872419623,
           0.6174268058452416,
           0.0985637457991173,
           0.6702788246430197,
           0.6912702075448516,
           0.6832599165123265,
           0.17800920792087796,
           0.44930074905033873,
           0.6882364076436723,
           0.2998788887096911,
           0.7295649165132022,
           0.6759872313060878,
           0.44882203840476104,
           0.7549680159063971,
           0.8841026390943831,
           0.8613230336379504,
           0.409464126539986,
           0.5149298906363866
          ],
          [
           0.7766138400204361,
           0.8225285223871791,
           0.29346405131394243,
           0.8509770412528199,
           0.823268868652435,
           0.5536951727437602,
           0.8311350431336992,
           0.9213910263788594,
           1,
           0.4624973883673589,
           0.16691738322699232,
           0.6980498335607405,
           0.021479581923401665,
           0.710649871613899,
           0.6902985397595536,
           0.027653308387136182,
           0.49042424959357267,
           0.4391670684742616,
           0.6156341308969191,
           0.09535078688667682,
           0.2575837462430334,
           0.8303176311186149,
           0.2927517130015175,
           0.8559231281343112,
           0.8096296199096177,
           0.45275305417904876,
           0.6674536768257113,
           0.7523994975749646,
           0.9101553142985934,
           0.37574414542361134,
           0.36866113371677073
          ],
          [
           0.3304985542625467,
           0.14774124199260222,
           0.07140098048331711,
           0.18302721211685288,
           0.1512930790351123,
           0.557774788072887,
           0.602641048405516,
           0.5006666171419625,
           0.4624973883673589,
           1,
           0.47992133005096926,
           0.30337926320726255,
           0.12805292634025622,
           0.3138927607965134,
           0.2239702194176301,
           0.18732116526139064,
           0.4216591470050111,
           0.34262702307772075,
           0.3932978720890169,
           0.44913654239342926,
           0.331786146273124,
           0.18572775349568774,
           0.0906506881166427,
           0.21916855911105804,
           0.177193377374097,
           0.4266750263849472,
           0.47320001324461836,
           0.4337210075901724,
           0.4302966114579541,
           0.6998257976437318,
           0.43841349844460287
          ],
          [
           -0.012837602698432364,
           -0.3116308263092901,
           -0.07643718344813386,
           -0.2614769080663339,
           -0.2831098116914262,
           0.5847920019499777,
           0.5653686634145229,
           0.3367833594211852,
           0.16691738322699232,
           0.47992133005096926,
           1,
           0.00011099507262940723,
           0.16417396587172894,
           0.03982993157204707,
           -0.09017024752042735,
           0.401964425448413,
           0.5598366906211333,
           0.4466303216995713,
           0.34119804439711793,
           0.34500739714372775,
           0.6881315774585518,
           -0.2536914948766099,
           -0.05126920203676508,
           -0.2051512112627737,
           -0.231854451167561,
           0.504942075351762,
           0.4587981566678599,
           0.34623387634806796,
           0.17532544924324472,
           0.33401868385108285,
           0.7672967792384351
          ],
          [
           0.5671338208247176,
           0.6790903880020752,
           0.27586867617376215,
           0.6917650135334821,
           0.7325622269972976,
           0.3014670982531695,
           0.4974734460850615,
           0.6319248221414899,
           0.6980498335607405,
           0.30337926320726255,
           0.00011099507262940723,
           1,
           0.21324733725115766,
           0.9727936770160752,
           0.95183011211099,
           0.16451421981281122,
           0.35606457553220233,
           0.3323575376076101,
           0.5133464414367644,
           0.24056736245007107,
           0.2277535326719804,
           0.7150651951351847,
           0.19479855683425118,
           0.7196838036650056,
           0.7515484761266196,
           0.14191855291860694,
           0.28710316560074006,
           0.38058463462872233,
           0.5310623278216042,
           0.09454283035438174,
           0.049559432464573054
          ],
          [
           -0.008303332973877434,
           -0.09731744314481341,
           0.3863576227244903,
           -0.08676107831179487,
           -0.06628021360457748,
           0.06840644817118242,
           0.04620483071640686,
           0.07621834813534009,
           0.021479581923401665,
           0.12805292634025622,
           0.16417396587172894,
           0.21324733725115766,
           1,
           0.22317072863071377,
           0.11156724721803955,
           0.39724285264120923,
           0.23169969897623746,
           0.1949984644588188,
           0.23028339955703334,
           0.41162068019753906,
           0.27972274771919403,
           -0.11169031312493034,
           0.4090027663153055,
           -0.10224192188743313,
           -0.08319498858504669,
           -0.07365765910118538,
           -0.09243935361819389,
           -0.06895622054645618,
           -0.11963752313984637,
           -0.12821475779252972,
           -0.045654568593207066
          ],
          [
           0.5561407034314833,
           0.6741716157641062,
           0.28167311478720247,
           0.693134889540866,
           0.7266283277906854,
           0.2960919328935148,
           0.5489052645888234,
           0.6603907872419623,
           0.710649871613899,
           0.3138927607965134,
           0.03982993157204707,
           0.9727936770160752,
           0.22317072863071377,
           1,
           0.9376554069544158,
           0.15107533120841277,
           0.4163223679924622,
           0.3624815822704492,
           0.5562640836543972,
           0.2664870918640225,
           0.24414277341628593,
           0.6972005927206462,
           0.2003708539594513,
           0.7210313099890179,
           0.7307129731302835,
           0.1300543919910099,
           0.341919445371206,
           0.4188988157305724,
           0.554897230628211,
           0.10993043423135032,
           0.08543257205665733
          ],
          [
           0.5482359402780249,
           0.7358636632128175,
           0.2598449866100983,
           0.7449826941190679,
           0.8000859212343217,
           0.2465524316657357,
           0.45565285198788913,
           0.6174268058452416,
           0.6902985397595536,
           0.2239702194176301,
           -0.09017024752042735,
           0.95183011211099,
           0.11156724721803955,
           0.9376554069544158,
           1,
           0.0751503381219939,
           0.284840056541161,
           0.270894726190632,
           0.4157295683714004,
           0.13410897969247484,
           0.12707090297801266,
           0.7573731889240161,
           0.19649664907281042,
           0.761212636068759,
           0.8114079609317285,
           0.12538943051609133,
           0.2832565375374558,
           0.38510013559852974,
           0.5381663138957362,
           0.07412629159952809,
           0.017539295132385384
          ],
          [
           -0.06701601057948744,
           -0.22260012458211118,
           0.006613777353585289,
           -0.2026940262983221,
           -0.16677666660111248,
           0.3323754426475921,
           0.13529926770047143,
           0.0985637457991173,
           0.027653308387136182,
           0.18732116526139064,
           0.401964425448413,
           0.16451421981281122,
           0.39724285264120923,
           0.15107533120841277,
           0.0751503381219939,
           1,
           0.3366960805054451,
           0.2686847598722628,
           0.3284294991096792,
           0.4135061252078975,
           0.42737420672315873,
           -0.23069070984514775,
           -0.0747429648767562,
           -0.2173037545818619,
           -0.18219547805909875,
           0.3144574559808277,
           -0.05555813871505079,
           -0.058298386743445355,
           -0.10200679633746514,
           -0.10734209778914458,
           0.10148031504252501
          ],
          [
           0.2929992442488583,
           0.20599998040769918,
           0.19197461132396662,
           0.2507436807405883,
           0.2125825507792329,
           0.31894329670537885,
           0.7387217896603926,
           0.6702788246430197,
           0.49042424959357267,
           0.4216591470050111,
           0.5598366906211333,
           0.35606457553220233,
           0.23169969897623746,
           0.4163223679924622,
           0.284840056541161,
           0.3366960805054451,
           1,
           0.8012683427383301,
           0.7440826676953249,
           0.39471283476203217,
           0.8032688176617685,
           0.2046071659474817,
           0.14300258329571663,
           0.26051583964720887,
           0.199371329091014,
           0.22739423230542344,
           0.6787803543724954,
           0.6391466977559199,
           0.48320832682561426,
           0.277878430714635,
           0.5909727625047899
          ],
          [
           0.2537297659808306,
           0.194203622761509,
           0.14329307656049847,
           0.2280823453936579,
           0.20766006048256938,
           0.24839567988255556,
           0.5705168714898888,
           0.6912702075448516,
           0.4391670684742616,
           0.34262702307772075,
           0.4466303216995713,
           0.3323575376076101,
           0.1949984644588188,
           0.3624815822704492,
           0.270894726190632,
           0.2686847598722628,
           0.8012683427383301,
           1,
           0.771803994923847,
           0.3094285779844514,
           0.7273721838811942,
           0.18690351568589783,
           0.10024098374834615,
           0.22668042559090118,
           0.1883526520895306,
           0.1684813207913676,
           0.48485780068646944,
           0.6625641337427421,
           0.4404722630462227,
           0.19778782186141072,
           0.43932926857579174
          ],
          [
           0.40804233271650514,
           0.3761689559399256,
           0.16385102528521825,
           0.4072169159986187,
           0.37232028233071035,
           0.3806756909832853,
           0.6422618509716465,
           0.6832599165123265,
           0.6156341308969191,
           0.3932978720890169,
           0.34119804439711793,
           0.5133464414367644,
           0.23028339955703334,
           0.5562640836543972,
           0.4157295683714004,
           0.3284294991096792,
           0.7440826676953249,
           0.771803994923847,
           1,
           0.31278022320973337,
           0.6110441393807232,
           0.35812666924104286,
           0.08674120994286848,
           0.39499925177418455,
           0.3422711620926817,
           0.21535059681593388,
           0.4528883773698813,
           0.5495923752351923,
           0.6024496059209876,
           0.14311566863305022,
           0.3106545514938306
          ],
          [
           -0.006521755870647959,
           -0.10432088141786555,
           0.009127167755036037,
           -0.08162932702839946,
           -0.07249658821176269,
           0.20077437592048303,
           0.22997659080143187,
           0.17800920792087796,
           0.09535078688667682,
           0.44913654239342926,
           0.34500739714372775,
           0.24056736245007107,
           0.41162068019753906,
           0.2664870918640225,
           0.13410897969247484,
           0.4135061252078975,
           0.39471283476203217,
           0.3094285779844514,
           0.31278022320973337,
           1,
           0.3690780833657288,
           -0.12812076907274242,
           -0.07747342018407907,
           -0.10375304384332523,
           -0.11034274289549861,
           -0.012661799565908748,
           0.06025487946536667,
           0.03711904859992842,
           -0.03041339642360097,
           0.3894024848846454,
           0.07807947627266763
          ],
          [
           0.0779724173902561,
           -0.04264126911445617,
           0.054457519568933646,
           -0.005523391057003975,
           -0.01988696323506802,
           0.2836066985468849,
           0.5073181269004221,
           0.44930074905033873,
           0.2575837462430334,
           0.331786146273124,
           0.6881315774585518,
           0.2277535326719804,
           0.27972274771919403,
           0.24414277341628593,
           0.12707090297801266,
           0.42737420672315873,
           0.8032688176617685,
           0.7273721838811942,
           0.6110441393807232,
           0.3690780833657288,
           1,
           -0.03748761786267336,
           -0.0031950288680895876,
           -0.0010003976259667909,
           -0.022736147308900514,
           0.17056831595314215,
           0.3901588420866753,
           0.37997466145707925,
           0.21520401331002892,
           0.11109395575572406,
           0.5913280656608751
          ],
          [
           0.7764537785950388,
           0.9695389726112053,
           0.3525729471502958,
           0.9694763634663142,
           0.9627460860470841,
           0.2131201418959488,
           0.5353153982176657,
           0.6882364076436723,
           0.8303176311186149,
           0.18572775349568774,
           -0.2536914948766099,
           0.7150651951351847,
           -0.11169031312493034,
           0.6972005927206462,
           0.7573731889240161,
           -0.23069070984514775,
           0.2046071659474817,
           0.18690351568589783,
           0.35812666924104286,
           -0.12812076907274242,
           -0.03748761786267336,
           1,
           0.35992075422104775,
           0.993707916102951,
           0.9840145644590724,
           0.21657443125969592,
           0.4758200374601463,
           0.5739747080993034,
           0.7874238517122413,
           0.24352920429131314,
           0.09349197867930158
          ],
          [
           0.4569028213967982,
           0.2970076439863734,
           0.9120445888404215,
           0.30303837155714997,
           0.2874886271213974,
           0.036071798785646245,
           0.24813283327741745,
           0.2998788887096911,
           0.2927517130015175,
           0.0906506881166427,
           -0.05126920203676508,
           0.19479855683425118,
           0.4090027663153055,
           0.2003708539594513,
           0.19649664907281042,
           -0.0747429648767562,
           0.14300258329571663,
           0.10024098374834615,
           0.08674120994286848,
           -0.07747342018407907,
           -0.0031950288680895876,
           0.35992075422104775,
           1,
           0.36509824540861924,
           0.3458422825267968,
           0.22542941490948643,
           0.3608323385979734,
           0.36836560745994473,
           0.35975460952503574,
           0.23302746144531689,
           0.21912242546315833
          ],
          [
           0.782914137173759,
           0.9651365139559878,
           0.35803957505322437,
           0.9703868870426388,
           0.959119574355266,
           0.2388526262091505,
           0.590210427731298,
           0.7295649165132022,
           0.8559231281343112,
           0.21916855911105804,
           -0.2051512112627737,
           0.7196838036650056,
           -0.10224192188743313,
           0.7210313099890179,
           0.761212636068759,
           -0.2173037545818619,
           0.26051583964720887,
           0.22668042559090118,
           0.39499925177418455,
           -0.10375304384332523,
           -0.0010003976259667909,
           0.993707916102951,
           0.36509824540861924,
           1,
           0.9775780914063881,
           0.23677460388606947,
           0.5294076901641028,
           0.6183440795335159,
           0.8163221016875445,
           0.2694927690838169,
           0.13895686184575748
          ],
          [
           0.7338250349210516,
           0.9410824595860459,
           0.3435459471864692,
           0.9415498080023057,
           0.9592133256499006,
           0.2067183634285763,
           0.5096038055579197,
           0.6759872313060878,
           0.8096296199096177,
           0.177193377374097,
           -0.231854451167561,
           0.7515484761266196,
           -0.08319498858504669,
           0.7307129731302835,
           0.8114079609317285,
           -0.18219547805909875,
           0.199371329091014,
           0.1883526520895306,
           0.3422711620926817,
           -0.11034274289549861,
           -0.022736147308900514,
           0.9840145644590724,
           0.3458422825267968,
           0.9775780914063881,
           1,
           0.20914533376028976,
           0.43829628377967356,
           0.5433305254110797,
           0.7474188023228173,
           0.20914550838707846,
           0.07964703402467596
          ],
          [
           0.4214648610664031,
           0.1196161399216085,
           0.07750335882212896,
           0.1505494043170372,
           0.12352293875557119,
           0.8053241954943631,
           0.5655411663750876,
           0.44882203840476104,
           0.45275305417904876,
           0.4266750263849472,
           0.504942075351762,
           0.14191855291860694,
           -0.07365765910118538,
           0.1300543919910099,
           0.12538943051609133,
           0.3144574559808277,
           0.22739423230542344,
           0.1684813207913676,
           0.21535059681593388,
           -0.012661799565908748,
           0.17056831595314215,
           0.21657443125969592,
           0.22542941490948643,
           0.23677460388606947,
           0.20914533376028976,
           1,
           0.5681865166856074,
           0.5185232928640022,
           0.5476909029497872,
           0.4938383302357595,
           0.6176241916554381
          ],
          [
           0.5909982378417925,
           0.4134628230608023,
           0.2778295924789796,
           0.455774228038327,
           0.3904103092424995,
           0.4724684437304436,
           0.8658090398022638,
           0.7549680159063971,
           0.6674536768257113,
           0.47320001324461836,
           0.4587981566678599,
           0.28710316560074006,
           -0.09243935361819389,
           0.341919445371206,
           0.2832565375374558,
           -0.05555813871505079,
           0.6787803543724954,
           0.48485780068646944,
           0.4528883773698813,
           0.06025487946536667,
           0.3901588420866753,
           0.4758200374601463,
           0.3608323385979734,
           0.5294076901641028,
           0.43829628377967356,
           0.5681865166856074,
           1,
           0.8922608987764692,
           0.801080364635253,
           0.6144405011493058,
           0.8104548563116136
          ],
          [
           0.6596102103692344,
           0.5269114618385443,
           0.3010252238164908,
           0.5638792634736616,
           0.5126059204433245,
           0.4349257147250865,
           0.8162752498000281,
           0.8841026390943831,
           0.7523994975749646,
           0.4337210075901724,
           0.34623387634806796,
           0.38058463462872233,
           -0.06895622054645618,
           0.4188988157305724,
           0.38510013559852974,
           -0.058298386743445355,
           0.6391466977559199,
           0.6625641337427421,
           0.5495923752351923,
           0.03711904859992842,
           0.37997466145707925,
           0.5739747080993034,
           0.36836560745994473,
           0.6183440795335159,
           0.5433305254110797,
           0.5185232928640022,
           0.8922608987764692,
           1,
           0.8554338603439984,
           0.5325197291183615,
           0.6865109212448627
          ],
          [
           0.7935660171412696,
           0.7442141978674656,
           0.2953158433377365,
           0.7712407893605479,
           0.722016626260358,
           0.5030533532989501,
           0.8155732235690654,
           0.8613230336379504,
           0.9101553142985934,
           0.4302966114579541,
           0.17532544924324472,
           0.5310623278216042,
           -0.11963752313984637,
           0.554897230628211,
           0.5381663138957362,
           -0.10200679633746514,
           0.48320832682561426,
           0.4404722630462227,
           0.6024496059209876,
           -0.03041339642360097,
           0.21520401331002892,
           0.7874238517122413,
           0.35975460952503574,
           0.8163221016875445,
           0.7474188023228173,
           0.5476909029497872,
           0.801080364635253,
           0.8554338603439984,
           1,
           0.5025284938306982,
           0.5111141458863392
          ],
          [
           0.41629431104861897,
           0.16395333493630726,
           0.10500791031597177,
           0.18911504046245725,
           0.14356991388907145,
           0.39430948181175646,
           0.5102234299218059,
           0.409464126539986,
           0.37574414542361134,
           0.6998257976437318,
           0.33401868385108285,
           0.09454283035438174,
           -0.12821475779252972,
           0.10993043423135032,
           0.07412629159952809,
           -0.10734209778914458,
           0.277878430714635,
           0.19778782186141072,
           0.14311566863305022,
           0.3894024848846454,
           0.11109395575572406,
           0.24352920429131314,
           0.23302746144531689,
           0.2694927690838169,
           0.20914550838707846,
           0.4938383302357595,
           0.6144405011493058,
           0.5325197291183615,
           0.5025284938306982,
           1,
           0.5378482062536074
          ],
          [
           0.3238721887208239,
           0.007065885692182505,
           0.11920535139708544,
           0.05101852972340659,
           0.0037375973515715428,
           0.49931636859376605,
           0.6873823227538962,
           0.5149298906363866,
           0.36866113371677073,
           0.43841349844460287,
           0.7672967792384351,
           0.049559432464573054,
           -0.045654568593207066,
           0.08543257205665733,
           0.017539295132385384,
           0.10148031504252501,
           0.5909727625047899,
           0.43932926857579174,
           0.3106545514938306,
           0.07807947627266763,
           0.5913280656608751,
           0.09349197867930158,
           0.21912242546315833,
           0.13895686184575748,
           0.07964703402467596,
           0.6176241916554381,
           0.8104548563116136,
           0.6865109212448627,
           0.5111141458863392,
           0.5378482062536074,
           1
          ]
         ]
        }
       ],
       "layout": {
        "autosize": false,
        "height": 720,
        "margin": {
         "b": 210,
         "l": 210,
         "r": 0,
         "t": 25
        },
        "template": {
         "data": {
          "bar": [
           {
            "error_x": {
             "color": "#2a3f5f"
            },
            "error_y": {
             "color": "#2a3f5f"
            },
            "marker": {
             "line": {
              "color": "#E5ECF6",
              "width": 0.5
             }
            },
            "type": "bar"
           }
          ],
          "barpolar": [
           {
            "marker": {
             "line": {
              "color": "#E5ECF6",
              "width": 0.5
             }
            },
            "type": "barpolar"
           }
          ],
          "carpet": [
           {
            "aaxis": {
             "endlinecolor": "#2a3f5f",
             "gridcolor": "white",
             "linecolor": "white",
             "minorgridcolor": "white",
             "startlinecolor": "#2a3f5f"
            },
            "baxis": {
             "endlinecolor": "#2a3f5f",
             "gridcolor": "white",
             "linecolor": "white",
             "minorgridcolor": "white",
             "startlinecolor": "#2a3f5f"
            },
            "type": "carpet"
           }
          ],
          "choropleth": [
           {
            "colorbar": {
             "outlinewidth": 0,
             "ticks": ""
            },
            "type": "choropleth"
           }
          ],
          "contour": [
           {
            "colorbar": {
             "outlinewidth": 0,
             "ticks": ""
            },
            "colorscale": [
             [
              0,
              "#0d0887"
             ],
             [
              0.1111111111111111,
              "#46039f"
             ],
             [
              0.2222222222222222,
              "#7201a8"
             ],
             [
              0.3333333333333333,
              "#9c179e"
             ],
             [
              0.4444444444444444,
              "#bd3786"
             ],
             [
              0.5555555555555556,
              "#d8576b"
             ],
             [
              0.6666666666666666,
              "#ed7953"
             ],
             [
              0.7777777777777778,
              "#fb9f3a"
             ],
             [
              0.8888888888888888,
              "#fdca26"
             ],
             [
              1,
              "#f0f921"
             ]
            ],
            "type": "contour"
           }
          ],
          "contourcarpet": [
           {
            "colorbar": {
             "outlinewidth": 0,
             "ticks": ""
            },
            "type": "contourcarpet"
           }
          ],
          "heatmap": [
           {
            "colorbar": {
             "outlinewidth": 0,
             "ticks": ""
            },
            "colorscale": [
             [
              0,
              "#0d0887"
             ],
             [
              0.1111111111111111,
              "#46039f"
             ],
             [
              0.2222222222222222,
              "#7201a8"
             ],
             [
              0.3333333333333333,
              "#9c179e"
             ],
             [
              0.4444444444444444,
              "#bd3786"
             ],
             [
              0.5555555555555556,
              "#d8576b"
             ],
             [
              0.6666666666666666,
              "#ed7953"
             ],
             [
              0.7777777777777778,
              "#fb9f3a"
             ],
             [
              0.8888888888888888,
              "#fdca26"
             ],
             [
              1,
              "#f0f921"
             ]
            ],
            "type": "heatmap"
           }
          ],
          "heatmapgl": [
           {
            "colorbar": {
             "outlinewidth": 0,
             "ticks": ""
            },
            "colorscale": [
             [
              0,
              "#0d0887"
             ],
             [
              0.1111111111111111,
              "#46039f"
             ],
             [
              0.2222222222222222,
              "#7201a8"
             ],
             [
              0.3333333333333333,
              "#9c179e"
             ],
             [
              0.4444444444444444,
              "#bd3786"
             ],
             [
              0.5555555555555556,
              "#d8576b"
             ],
             [
              0.6666666666666666,
              "#ed7953"
             ],
             [
              0.7777777777777778,
              "#fb9f3a"
             ],
             [
              0.8888888888888888,
              "#fdca26"
             ],
             [
              1,
              "#f0f921"
             ]
            ],
            "type": "heatmapgl"
           }
          ],
          "histogram": [
           {
            "marker": {
             "colorbar": {
              "outlinewidth": 0,
              "ticks": ""
             }
            },
            "type": "histogram"
           }
          ],
          "histogram2d": [
           {
            "colorbar": {
             "outlinewidth": 0,
             "ticks": ""
            },
            "colorscale": [
             [
              0,
              "#0d0887"
             ],
             [
              0.1111111111111111,
              "#46039f"
             ],
             [
              0.2222222222222222,
              "#7201a8"
             ],
             [
              0.3333333333333333,
              "#9c179e"
             ],
             [
              0.4444444444444444,
              "#bd3786"
             ],
             [
              0.5555555555555556,
              "#d8576b"
             ],
             [
              0.6666666666666666,
              "#ed7953"
             ],
             [
              0.7777777777777778,
              "#fb9f3a"
             ],
             [
              0.8888888888888888,
              "#fdca26"
             ],
             [
              1,
              "#f0f921"
             ]
            ],
            "type": "histogram2d"
           }
          ],
          "histogram2dcontour": [
           {
            "colorbar": {
             "outlinewidth": 0,
             "ticks": ""
            },
            "colorscale": [
             [
              0,
              "#0d0887"
             ],
             [
              0.1111111111111111,
              "#46039f"
             ],
             [
              0.2222222222222222,
              "#7201a8"
             ],
             [
              0.3333333333333333,
              "#9c179e"
             ],
             [
              0.4444444444444444,
              "#bd3786"
             ],
             [
              0.5555555555555556,
              "#d8576b"
             ],
             [
              0.6666666666666666,
              "#ed7953"
             ],
             [
              0.7777777777777778,
              "#fb9f3a"
             ],
             [
              0.8888888888888888,
              "#fdca26"
             ],
             [
              1,
              "#f0f921"
             ]
            ],
            "type": "histogram2dcontour"
           }
          ],
          "mesh3d": [
           {
            "colorbar": {
             "outlinewidth": 0,
             "ticks": ""
            },
            "type": "mesh3d"
           }
          ],
          "parcoords": [
           {
            "line": {
             "colorbar": {
              "outlinewidth": 0,
              "ticks": ""
             }
            },
            "type": "parcoords"
           }
          ],
          "pie": [
           {
            "automargin": true,
            "type": "pie"
           }
          ],
          "scatter": [
           {
            "marker": {
             "colorbar": {
              "outlinewidth": 0,
              "ticks": ""
             }
            },
            "type": "scatter"
           }
          ],
          "scatter3d": [
           {
            "line": {
             "colorbar": {
              "outlinewidth": 0,
              "ticks": ""
             }
            },
            "marker": {
             "colorbar": {
              "outlinewidth": 0,
              "ticks": ""
             }
            },
            "type": "scatter3d"
           }
          ],
          "scattercarpet": [
           {
            "marker": {
             "colorbar": {
              "outlinewidth": 0,
              "ticks": ""
             }
            },
            "type": "scattercarpet"
           }
          ],
          "scattergeo": [
           {
            "marker": {
             "colorbar": {
              "outlinewidth": 0,
              "ticks": ""
             }
            },
            "type": "scattergeo"
           }
          ],
          "scattergl": [
           {
            "marker": {
             "colorbar": {
              "outlinewidth": 0,
              "ticks": ""
             }
            },
            "type": "scattergl"
           }
          ],
          "scattermapbox": [
           {
            "marker": {
             "colorbar": {
              "outlinewidth": 0,
              "ticks": ""
             }
            },
            "type": "scattermapbox"
           }
          ],
          "scatterpolar": [
           {
            "marker": {
             "colorbar": {
              "outlinewidth": 0,
              "ticks": ""
             }
            },
            "type": "scatterpolar"
           }
          ],
          "scatterpolargl": [
           {
            "marker": {
             "colorbar": {
              "outlinewidth": 0,
              "ticks": ""
             }
            },
            "type": "scatterpolargl"
           }
          ],
          "scatterternary": [
           {
            "marker": {
             "colorbar": {
              "outlinewidth": 0,
              "ticks": ""
             }
            },
            "type": "scatterternary"
           }
          ],
          "surface": [
           {
            "colorbar": {
             "outlinewidth": 0,
             "ticks": ""
            },
            "colorscale": [
             [
              0,
              "#0d0887"
             ],
             [
              0.1111111111111111,
              "#46039f"
             ],
             [
              0.2222222222222222,
              "#7201a8"
             ],
             [
              0.3333333333333333,
              "#9c179e"
             ],
             [
              0.4444444444444444,
              "#bd3786"
             ],
             [
              0.5555555555555556,
              "#d8576b"
             ],
             [
              0.6666666666666666,
              "#ed7953"
             ],
             [
              0.7777777777777778,
              "#fb9f3a"
             ],
             [
              0.8888888888888888,
              "#fdca26"
             ],
             [
              1,
              "#f0f921"
             ]
            ],
            "type": "surface"
           }
          ],
          "table": [
           {
            "cells": {
             "fill": {
              "color": "#EBF0F8"
             },
             "line": {
              "color": "white"
             }
            },
            "header": {
             "fill": {
              "color": "#C8D4E3"
             },
             "line": {
              "color": "white"
             }
            },
            "type": "table"
           }
          ]
         },
         "layout": {
          "annotationdefaults": {
           "arrowcolor": "#2a3f5f",
           "arrowhead": 0,
           "arrowwidth": 1
          },
          "autotypenumbers": "strict",
          "coloraxis": {
           "colorbar": {
            "outlinewidth": 0,
            "ticks": ""
           }
          },
          "colorscale": {
           "diverging": [
            [
             0,
             "#8e0152"
            ],
            [
             0.1,
             "#c51b7d"
            ],
            [
             0.2,
             "#de77ae"
            ],
            [
             0.3,
             "#f1b6da"
            ],
            [
             0.4,
             "#fde0ef"
            ],
            [
             0.5,
             "#f7f7f7"
            ],
            [
             0.6,
             "#e6f5d0"
            ],
            [
             0.7,
             "#b8e186"
            ],
            [
             0.8,
             "#7fbc41"
            ],
            [
             0.9,
             "#4d9221"
            ],
            [
             1,
             "#276419"
            ]
           ],
           "sequential": [
            [
             0,
             "#0d0887"
            ],
            [
             0.1111111111111111,
             "#46039f"
            ],
            [
             0.2222222222222222,
             "#7201a8"
            ],
            [
             0.3333333333333333,
             "#9c179e"
            ],
            [
             0.4444444444444444,
             "#bd3786"
            ],
            [
             0.5555555555555556,
             "#d8576b"
            ],
            [
             0.6666666666666666,
             "#ed7953"
            ],
            [
             0.7777777777777778,
             "#fb9f3a"
            ],
            [
             0.8888888888888888,
             "#fdca26"
            ],
            [
             1,
             "#f0f921"
            ]
           ],
           "sequentialminus": [
            [
             0,
             "#0d0887"
            ],
            [
             0.1111111111111111,
             "#46039f"
            ],
            [
             0.2222222222222222,
             "#7201a8"
            ],
            [
             0.3333333333333333,
             "#9c179e"
            ],
            [
             0.4444444444444444,
             "#bd3786"
            ],
            [
             0.5555555555555556,
             "#d8576b"
            ],
            [
             0.6666666666666666,
             "#ed7953"
            ],
            [
             0.7777777777777778,
             "#fb9f3a"
            ],
            [
             0.8888888888888888,
             "#fdca26"
            ],
            [
             1,
             "#f0f921"
            ]
           ]
          },
          "colorway": [
           "#636efa",
           "#EF553B",
           "#00cc96",
           "#ab63fa",
           "#FFA15A",
           "#19d3f3",
           "#FF6692",
           "#B6E880",
           "#FF97FF",
           "#FECB52"
          ],
          "font": {
           "color": "#2a3f5f"
          },
          "geo": {
           "bgcolor": "white",
           "lakecolor": "white",
           "landcolor": "#E5ECF6",
           "showlakes": true,
           "showland": true,
           "subunitcolor": "white"
          },
          "hoverlabel": {
           "align": "left"
          },
          "hovermode": "closest",
          "mapbox": {
           "style": "light"
          },
          "paper_bgcolor": "white",
          "plot_bgcolor": "#E5ECF6",
          "polar": {
           "angularaxis": {
            "gridcolor": "white",
            "linecolor": "white",
            "ticks": ""
           },
           "bgcolor": "#E5ECF6",
           "radialaxis": {
            "gridcolor": "white",
            "linecolor": "white",
            "ticks": ""
           }
          },
          "scene": {
           "xaxis": {
            "backgroundcolor": "#E5ECF6",
            "gridcolor": "white",
            "gridwidth": 2,
            "linecolor": "white",
            "showbackground": true,
            "ticks": "",
            "zerolinecolor": "white"
           },
           "yaxis": {
            "backgroundcolor": "#E5ECF6",
            "gridcolor": "white",
            "gridwidth": 2,
            "linecolor": "white",
            "showbackground": true,
            "ticks": "",
            "zerolinecolor": "white"
           },
           "zaxis": {
            "backgroundcolor": "#E5ECF6",
            "gridcolor": "white",
            "gridwidth": 2,
            "linecolor": "white",
            "showbackground": true,
            "ticks": "",
            "zerolinecolor": "white"
           }
          },
          "shapedefaults": {
           "line": {
            "color": "#2a3f5f"
           }
          },
          "ternary": {
           "aaxis": {
            "gridcolor": "white",
            "linecolor": "white",
            "ticks": ""
           },
           "baxis": {
            "gridcolor": "white",
            "linecolor": "white",
            "ticks": ""
           },
           "bgcolor": "#E5ECF6",
           "caxis": {
            "gridcolor": "white",
            "linecolor": "white",
            "ticks": ""
           }
          },
          "title": {
           "x": 0.05
          },
          "xaxis": {
           "automargin": true,
           "gridcolor": "white",
           "linecolor": "white",
           "ticks": "",
           "title": {
            "standoff": 15
           },
           "zerolinecolor": "white",
           "zerolinewidth": 2
          },
          "yaxis": {
           "automargin": true,
           "gridcolor": "white",
           "linecolor": "white",
           "ticks": "",
           "title": {
            "standoff": 15
           },
           "zerolinecolor": "white",
           "zerolinewidth": 2
          }
         }
        },
        "title": {
         "text": "Correlation Matrix for variables"
        },
        "width": 800,
        "xaxis": {
         "tickfont": {
          "size": 9
         }
        },
        "yaxis": {
         "tickfont": {
          "size": 9
         }
        }
       }
      },
      "text/html": [
       "<div>                            <div id=\"ad0aea0a-9933-4e62-94be-4663463a70f4\" class=\"plotly-graph-div\" style=\"height:720px; width:800px;\"></div>            <script type=\"text/javascript\">                require([\"plotly\"], function(Plotly) {                    window.PLOTLYENV=window.PLOTLYENV || {};                                    if (document.getElementById(\"ad0aea0a-9933-4e62-94be-4663463a70f4\")) {                    Plotly.newPlot(                        \"ad0aea0a-9933-4e62-94be-4663463a70f4\",                        [{\"colorscale\": [[0.0, \"#440154\"], [0.1111111111111111, \"#482878\"], [0.2222222222222222, \"#3e4989\"], [0.3333333333333333, \"#31688e\"], [0.4444444444444444, \"#26828e\"], [0.5555555555555556, \"#1f9e89\"], [0.6666666666666666, \"#35b779\"], [0.7777777777777778, \"#6ece58\"], [0.8888888888888888, \"#b5de2b\"], [1.0, \"#fde725\"]], \"type\": \"heatmap\", \"x\": [\"diagnosis\", \"radius_mean\", \"texture_mean\", \"perimeter_mean\", \"area_mean\", \"smoothness_mean\", \"compactness_mean\", \"concavity_mean\", \"concave points_mean\", \"symmetry_mean\", \"fractal_dimension_mean\", \"radius_se\", \"texture_se\", \"perimeter_se\", \"area_se\", \"smoothness_se\", \"compactness_se\", \"concavity_se\", \"concave points_se\", \"symmetry_se\", \"fractal_dimension_se\", \"radius_worst\", \"texture_worst\", \"perimeter_worst\", \"area_worst\", \"smoothness_worst\", \"compactness_worst\", \"concavity_worst\", \"concave points_worst\", \"symmetry_worst\", \"fractal_dimension_worst\"], \"xgap\": 2, \"y\": [\"diagnosis\", \"radius_mean\", \"texture_mean\", \"perimeter_mean\", \"area_mean\", \"smoothness_mean\", \"compactness_mean\", \"concavity_mean\", \"concave points_mean\", \"symmetry_mean\", \"fractal_dimension_mean\", \"radius_se\", \"texture_se\", \"perimeter_se\", \"area_se\", \"smoothness_se\", \"compactness_se\", \"concavity_se\", \"concave points_se\", \"symmetry_se\", \"fractal_dimension_se\", \"radius_worst\", \"texture_worst\", \"perimeter_worst\", \"area_worst\", \"smoothness_worst\", \"compactness_worst\", \"concavity_worst\", \"concave points_worst\", \"symmetry_worst\", \"fractal_dimension_worst\"], \"ygap\": 2, \"z\": [[1.0, 0.7300285113754569, 0.4151852998452046, 0.742635529725833, 0.7089838365853909, 0.3585599650859322, 0.5965336775082529, 0.6963597071719053, 0.7766138400204361, 0.3304985542625467, -0.012837602698432364, 0.5671338208247176, -0.008303332973877434, 0.5561407034314833, 0.5482359402780249, -0.06701601057948744, 0.2929992442488583, 0.2537297659808306, 0.40804233271650514, -0.006521755870647959, 0.0779724173902561, 0.7764537785950388, 0.4569028213967982, 0.782914137173759, 0.7338250349210516, 0.4214648610664031, 0.5909982378417925, 0.6596102103692344, 0.7935660171412696, 0.41629431104861897, 0.3238721887208239], [0.7300285113754569, 1.0, 0.32378189092773274, 0.9978552814938113, 0.9873571700566119, 0.17058118749299475, 0.5061235775263626, 0.6767635503908116, 0.8225285223871791, 0.14774124199260222, -0.3116308263092901, 0.6790903880020752, -0.09731744314481341, 0.6741716157641062, 0.7358636632128175, -0.22260012458211118, 0.20599998040769918, 0.194203622761509, 0.3761689559399256, -0.10432088141786555, -0.04264126911445617, 0.9695389726112053, 0.2970076439863734, 0.9651365139559878, 0.9410824595860459, 0.1196161399216085, 0.4134628230608023, 0.5269114618385443, 0.7442141978674656, 0.16395333493630726, 0.007065885692182505], [0.4151852998452046, 0.32378189092773274, 1.0, 0.3295330586865708, 0.321085696080207, -0.02338851599842355, 0.2367022220743719, 0.3024178279438913, 0.29346405131394243, 0.07140098048331711, -0.07643718344813386, 0.27586867617376215, 0.3863576227244903, 0.28167311478720247, 0.2598449866100983, 0.006613777353585289, 0.19197461132396662, 0.14329307656049847, 0.16385102528521825, 0.009127167755036037, 0.054457519568933646, 0.3525729471502958, 0.9120445888404215, 0.35803957505322437, 0.3435459471864692, 0.07750335882212896, 0.2778295924789796, 0.3010252238164908, 0.2953158433377365, 0.10500791031597177, 0.11920535139708544], [0.742635529725833, 0.9978552814938113, 0.3295330586865708, 1.0, 0.9865068039913906, 0.20727816369100655, 0.556936210879562, 0.7161356501174044, 0.8509770412528199, 0.18302721211685288, -0.2614769080663339, 0.6917650135334821, -0.08676107831179487, 0.693134889540866, 0.7449826941190679, -0.2026940262983221, 0.2507436807405883, 0.2280823453936579, 0.4072169159986187, -0.08162932702839946, -0.005523391057003975, 0.9694763634663142, 0.30303837155714997, 0.9703868870426388, 0.9415498080023057, 0.1505494043170372, 0.455774228038327, 0.5638792634736616, 0.7712407893605479, 0.18911504046245725, 0.05101852972340659], [0.7089838365853909, 0.9873571700566119, 0.321085696080207, 0.9865068039913906, 1.0, 0.1770283772540013, 0.49850168215241164, 0.6859828285519113, 0.823268868652435, 0.1512930790351123, -0.2831098116914262, 0.7325622269972976, -0.06628021360457748, 0.7266283277906854, 0.8000859212343217, -0.16677666660111248, 0.2125825507792329, 0.20766006048256938, 0.37232028233071035, -0.07249658821176269, -0.01988696323506802, 0.9627460860470841, 0.2874886271213974, 0.959119574355266, 0.9592133256499006, 0.12352293875557119, 0.3904103092424995, 0.5126059204433245, 0.722016626260358, 0.14356991388907145, 0.0037375973515715428], [0.3585599650859322, 0.17058118749299475, -0.02338851599842355, 0.20727816369100655, 0.1770283772540013, 1.0, 0.6591232152159219, 0.5219837677142599, 0.5536951727437602, 0.557774788072887, 0.5847920019499777, 0.3014670982531695, 0.06840644817118242, 0.2960919328935148, 0.2465524316657357, 0.3323754426475921, 0.31894329670537885, 0.24839567988255556, 0.3806756909832853, 0.20077437592048303, 0.2836066985468849, 0.2131201418959488, 0.036071798785646245, 0.2388526262091505, 0.2067183634285763, 0.8053241954943631, 0.4724684437304436, 0.4349257147250865, 0.5030533532989501, 0.39430948181175646, 0.49931636859376605], [0.5965336775082529, 0.5061235775263626, 0.2367022220743719, 0.556936210879562, 0.49850168215241164, 0.6591232152159219, 1.0, 0.8831206701772499, 0.8311350431336992, 0.602641048405516, 0.5653686634145229, 0.4974734460850615, 0.04620483071640686, 0.5489052645888234, 0.45565285198788913, 0.13529926770047143, 0.7387217896603926, 0.5705168714898888, 0.6422618509716465, 0.22997659080143187, 0.5073181269004221, 0.5353153982176657, 0.24813283327741745, 0.590210427731298, 0.5096038055579197, 0.5655411663750876, 0.8658090398022638, 0.8162752498000281, 0.8155732235690654, 0.5102234299218059, 0.6873823227538962], [0.6963597071719053, 0.6767635503908116, 0.3024178279438913, 0.7161356501174044, 0.6859828285519113, 0.5219837677142599, 0.8831206701772499, 1.0, 0.9213910263788594, 0.5006666171419625, 0.3367833594211852, 0.6319248221414899, 0.07621834813534009, 0.6603907872419623, 0.6174268058452416, 0.0985637457991173, 0.6702788246430197, 0.6912702075448516, 0.6832599165123265, 0.17800920792087796, 0.44930074905033873, 0.6882364076436723, 0.2998788887096911, 0.7295649165132022, 0.6759872313060878, 0.44882203840476104, 0.7549680159063971, 0.8841026390943831, 0.8613230336379504, 0.409464126539986, 0.5149298906363866], [0.7766138400204361, 0.8225285223871791, 0.29346405131394243, 0.8509770412528199, 0.823268868652435, 0.5536951727437602, 0.8311350431336992, 0.9213910263788594, 1.0, 0.4624973883673589, 0.16691738322699232, 0.6980498335607405, 0.021479581923401665, 0.710649871613899, 0.6902985397595536, 0.027653308387136182, 0.49042424959357267, 0.4391670684742616, 0.6156341308969191, 0.09535078688667682, 0.2575837462430334, 0.8303176311186149, 0.2927517130015175, 0.8559231281343112, 0.8096296199096177, 0.45275305417904876, 0.6674536768257113, 0.7523994975749646, 0.9101553142985934, 0.37574414542361134, 0.36866113371677073], [0.3304985542625467, 0.14774124199260222, 0.07140098048331711, 0.18302721211685288, 0.1512930790351123, 0.557774788072887, 0.602641048405516, 0.5006666171419625, 0.4624973883673589, 1.0, 0.47992133005096926, 0.30337926320726255, 0.12805292634025622, 0.3138927607965134, 0.2239702194176301, 0.18732116526139064, 0.4216591470050111, 0.34262702307772075, 0.3932978720890169, 0.44913654239342926, 0.331786146273124, 0.18572775349568774, 0.0906506881166427, 0.21916855911105804, 0.177193377374097, 0.4266750263849472, 0.47320001324461836, 0.4337210075901724, 0.4302966114579541, 0.6998257976437318, 0.43841349844460287], [-0.012837602698432364, -0.3116308263092901, -0.07643718344813386, -0.2614769080663339, -0.2831098116914262, 0.5847920019499777, 0.5653686634145229, 0.3367833594211852, 0.16691738322699232, 0.47992133005096926, 1.0, 0.00011099507262940723, 0.16417396587172894, 0.03982993157204707, -0.09017024752042735, 0.401964425448413, 0.5598366906211333, 0.4466303216995713, 0.34119804439711793, 0.34500739714372775, 0.6881315774585518, -0.2536914948766099, -0.05126920203676508, -0.2051512112627737, -0.231854451167561, 0.504942075351762, 0.4587981566678599, 0.34623387634806796, 0.17532544924324472, 0.33401868385108285, 0.7672967792384351], [0.5671338208247176, 0.6790903880020752, 0.27586867617376215, 0.6917650135334821, 0.7325622269972976, 0.3014670982531695, 0.4974734460850615, 0.6319248221414899, 0.6980498335607405, 0.30337926320726255, 0.00011099507262940723, 1.0, 0.21324733725115766, 0.9727936770160752, 0.95183011211099, 0.16451421981281122, 0.35606457553220233, 0.3323575376076101, 0.5133464414367644, 0.24056736245007107, 0.2277535326719804, 0.7150651951351847, 0.19479855683425118, 0.7196838036650056, 0.7515484761266196, 0.14191855291860694, 0.28710316560074006, 0.38058463462872233, 0.5310623278216042, 0.09454283035438174, 0.049559432464573054], [-0.008303332973877434, -0.09731744314481341, 0.3863576227244903, -0.08676107831179487, -0.06628021360457748, 0.06840644817118242, 0.04620483071640686, 0.07621834813534009, 0.021479581923401665, 0.12805292634025622, 0.16417396587172894, 0.21324733725115766, 1.0, 0.22317072863071377, 0.11156724721803955, 0.39724285264120923, 0.23169969897623746, 0.1949984644588188, 0.23028339955703334, 0.41162068019753906, 0.27972274771919403, -0.11169031312493034, 0.4090027663153055, -0.10224192188743313, -0.08319498858504669, -0.07365765910118538, -0.09243935361819389, -0.06895622054645618, -0.11963752313984637, -0.12821475779252972, -0.045654568593207066], [0.5561407034314833, 0.6741716157641062, 0.28167311478720247, 0.693134889540866, 0.7266283277906854, 0.2960919328935148, 0.5489052645888234, 0.6603907872419623, 0.710649871613899, 0.3138927607965134, 0.03982993157204707, 0.9727936770160752, 0.22317072863071377, 1.0, 0.9376554069544158, 0.15107533120841277, 0.4163223679924622, 0.3624815822704492, 0.5562640836543972, 0.2664870918640225, 0.24414277341628593, 0.6972005927206462, 0.2003708539594513, 0.7210313099890179, 0.7307129731302835, 0.1300543919910099, 0.341919445371206, 0.4188988157305724, 0.554897230628211, 0.10993043423135032, 0.08543257205665733], [0.5482359402780249, 0.7358636632128175, 0.2598449866100983, 0.7449826941190679, 0.8000859212343217, 0.2465524316657357, 0.45565285198788913, 0.6174268058452416, 0.6902985397595536, 0.2239702194176301, -0.09017024752042735, 0.95183011211099, 0.11156724721803955, 0.9376554069544158, 1.0, 0.0751503381219939, 0.284840056541161, 0.270894726190632, 0.4157295683714004, 0.13410897969247484, 0.12707090297801266, 0.7573731889240161, 0.19649664907281042, 0.761212636068759, 0.8114079609317285, 0.12538943051609133, 0.2832565375374558, 0.38510013559852974, 0.5381663138957362, 0.07412629159952809, 0.017539295132385384], [-0.06701601057948744, -0.22260012458211118, 0.006613777353585289, -0.2026940262983221, -0.16677666660111248, 0.3323754426475921, 0.13529926770047143, 0.0985637457991173, 0.027653308387136182, 0.18732116526139064, 0.401964425448413, 0.16451421981281122, 0.39724285264120923, 0.15107533120841277, 0.0751503381219939, 1.0, 0.3366960805054451, 0.2686847598722628, 0.3284294991096792, 0.4135061252078975, 0.42737420672315873, -0.23069070984514775, -0.0747429648767562, -0.2173037545818619, -0.18219547805909875, 0.3144574559808277, -0.05555813871505079, -0.058298386743445355, -0.10200679633746514, -0.10734209778914458, 0.10148031504252501], [0.2929992442488583, 0.20599998040769918, 0.19197461132396662, 0.2507436807405883, 0.2125825507792329, 0.31894329670537885, 0.7387217896603926, 0.6702788246430197, 0.49042424959357267, 0.4216591470050111, 0.5598366906211333, 0.35606457553220233, 0.23169969897623746, 0.4163223679924622, 0.284840056541161, 0.3366960805054451, 1.0, 0.8012683427383301, 0.7440826676953249, 0.39471283476203217, 0.8032688176617685, 0.2046071659474817, 0.14300258329571663, 0.26051583964720887, 0.199371329091014, 0.22739423230542344, 0.6787803543724954, 0.6391466977559199, 0.48320832682561426, 0.277878430714635, 0.5909727625047899], [0.2537297659808306, 0.194203622761509, 0.14329307656049847, 0.2280823453936579, 0.20766006048256938, 0.24839567988255556, 0.5705168714898888, 0.6912702075448516, 0.4391670684742616, 0.34262702307772075, 0.4466303216995713, 0.3323575376076101, 0.1949984644588188, 0.3624815822704492, 0.270894726190632, 0.2686847598722628, 0.8012683427383301, 1.0, 0.771803994923847, 0.3094285779844514, 0.7273721838811942, 0.18690351568589783, 0.10024098374834615, 0.22668042559090118, 0.1883526520895306, 0.1684813207913676, 0.48485780068646944, 0.6625641337427421, 0.4404722630462227, 0.19778782186141072, 0.43932926857579174], [0.40804233271650514, 0.3761689559399256, 0.16385102528521825, 0.4072169159986187, 0.37232028233071035, 0.3806756909832853, 0.6422618509716465, 0.6832599165123265, 0.6156341308969191, 0.3932978720890169, 0.34119804439711793, 0.5133464414367644, 0.23028339955703334, 0.5562640836543972, 0.4157295683714004, 0.3284294991096792, 0.7440826676953249, 0.771803994923847, 1.0, 0.31278022320973337, 0.6110441393807232, 0.35812666924104286, 0.08674120994286848, 0.39499925177418455, 0.3422711620926817, 0.21535059681593388, 0.4528883773698813, 0.5495923752351923, 0.6024496059209876, 0.14311566863305022, 0.3106545514938306], [-0.006521755870647959, -0.10432088141786555, 0.009127167755036037, -0.08162932702839946, -0.07249658821176269, 0.20077437592048303, 0.22997659080143187, 0.17800920792087796, 0.09535078688667682, 0.44913654239342926, 0.34500739714372775, 0.24056736245007107, 0.41162068019753906, 0.2664870918640225, 0.13410897969247484, 0.4135061252078975, 0.39471283476203217, 0.3094285779844514, 0.31278022320973337, 1.0, 0.3690780833657288, -0.12812076907274242, -0.07747342018407907, -0.10375304384332523, -0.11034274289549861, -0.012661799565908748, 0.06025487946536667, 0.03711904859992842, -0.03041339642360097, 0.3894024848846454, 0.07807947627266763], [0.0779724173902561, -0.04264126911445617, 0.054457519568933646, -0.005523391057003975, -0.01988696323506802, 0.2836066985468849, 0.5073181269004221, 0.44930074905033873, 0.2575837462430334, 0.331786146273124, 0.6881315774585518, 0.2277535326719804, 0.27972274771919403, 0.24414277341628593, 0.12707090297801266, 0.42737420672315873, 0.8032688176617685, 0.7273721838811942, 0.6110441393807232, 0.3690780833657288, 1.0, -0.03748761786267336, -0.0031950288680895876, -0.0010003976259667909, -0.022736147308900514, 0.17056831595314215, 0.3901588420866753, 0.37997466145707925, 0.21520401331002892, 0.11109395575572406, 0.5913280656608751], [0.7764537785950388, 0.9695389726112053, 0.3525729471502958, 0.9694763634663142, 0.9627460860470841, 0.2131201418959488, 0.5353153982176657, 0.6882364076436723, 0.8303176311186149, 0.18572775349568774, -0.2536914948766099, 0.7150651951351847, -0.11169031312493034, 0.6972005927206462, 0.7573731889240161, -0.23069070984514775, 0.2046071659474817, 0.18690351568589783, 0.35812666924104286, -0.12812076907274242, -0.03748761786267336, 1.0, 0.35992075422104775, 0.993707916102951, 0.9840145644590724, 0.21657443125969592, 0.4758200374601463, 0.5739747080993034, 0.7874238517122413, 0.24352920429131314, 0.09349197867930158], [0.4569028213967982, 0.2970076439863734, 0.9120445888404215, 0.30303837155714997, 0.2874886271213974, 0.036071798785646245, 0.24813283327741745, 0.2998788887096911, 0.2927517130015175, 0.0906506881166427, -0.05126920203676508, 0.19479855683425118, 0.4090027663153055, 0.2003708539594513, 0.19649664907281042, -0.0747429648767562, 0.14300258329571663, 0.10024098374834615, 0.08674120994286848, -0.07747342018407907, -0.0031950288680895876, 0.35992075422104775, 1.0, 0.36509824540861924, 0.3458422825267968, 0.22542941490948643, 0.3608323385979734, 0.36836560745994473, 0.35975460952503574, 0.23302746144531689, 0.21912242546315833], [0.782914137173759, 0.9651365139559878, 0.35803957505322437, 0.9703868870426388, 0.959119574355266, 0.2388526262091505, 0.590210427731298, 0.7295649165132022, 0.8559231281343112, 0.21916855911105804, -0.2051512112627737, 0.7196838036650056, -0.10224192188743313, 0.7210313099890179, 0.761212636068759, -0.2173037545818619, 0.26051583964720887, 0.22668042559090118, 0.39499925177418455, -0.10375304384332523, -0.0010003976259667909, 0.993707916102951, 0.36509824540861924, 1.0, 0.9775780914063881, 0.23677460388606947, 0.5294076901641028, 0.6183440795335159, 0.8163221016875445, 0.2694927690838169, 0.13895686184575748], [0.7338250349210516, 0.9410824595860459, 0.3435459471864692, 0.9415498080023057, 0.9592133256499006, 0.2067183634285763, 0.5096038055579197, 0.6759872313060878, 0.8096296199096177, 0.177193377374097, -0.231854451167561, 0.7515484761266196, -0.08319498858504669, 0.7307129731302835, 0.8114079609317285, -0.18219547805909875, 0.199371329091014, 0.1883526520895306, 0.3422711620926817, -0.11034274289549861, -0.022736147308900514, 0.9840145644590724, 0.3458422825267968, 0.9775780914063881, 1.0, 0.20914533376028976, 0.43829628377967356, 0.5433305254110797, 0.7474188023228173, 0.20914550838707846, 0.07964703402467596], [0.4214648610664031, 0.1196161399216085, 0.07750335882212896, 0.1505494043170372, 0.12352293875557119, 0.8053241954943631, 0.5655411663750876, 0.44882203840476104, 0.45275305417904876, 0.4266750263849472, 0.504942075351762, 0.14191855291860694, -0.07365765910118538, 0.1300543919910099, 0.12538943051609133, 0.3144574559808277, 0.22739423230542344, 0.1684813207913676, 0.21535059681593388, -0.012661799565908748, 0.17056831595314215, 0.21657443125969592, 0.22542941490948643, 0.23677460388606947, 0.20914533376028976, 1.0, 0.5681865166856074, 0.5185232928640022, 0.5476909029497872, 0.4938383302357595, 0.6176241916554381], [0.5909982378417925, 0.4134628230608023, 0.2778295924789796, 0.455774228038327, 0.3904103092424995, 0.4724684437304436, 0.8658090398022638, 0.7549680159063971, 0.6674536768257113, 0.47320001324461836, 0.4587981566678599, 0.28710316560074006, -0.09243935361819389, 0.341919445371206, 0.2832565375374558, -0.05555813871505079, 0.6787803543724954, 0.48485780068646944, 0.4528883773698813, 0.06025487946536667, 0.3901588420866753, 0.4758200374601463, 0.3608323385979734, 0.5294076901641028, 0.43829628377967356, 0.5681865166856074, 1.0, 0.8922608987764692, 0.801080364635253, 0.6144405011493058, 0.8104548563116136], [0.6596102103692344, 0.5269114618385443, 0.3010252238164908, 0.5638792634736616, 0.5126059204433245, 0.4349257147250865, 0.8162752498000281, 0.8841026390943831, 0.7523994975749646, 0.4337210075901724, 0.34623387634806796, 0.38058463462872233, -0.06895622054645618, 0.4188988157305724, 0.38510013559852974, -0.058298386743445355, 0.6391466977559199, 0.6625641337427421, 0.5495923752351923, 0.03711904859992842, 0.37997466145707925, 0.5739747080993034, 0.36836560745994473, 0.6183440795335159, 0.5433305254110797, 0.5185232928640022, 0.8922608987764692, 1.0, 0.8554338603439984, 0.5325197291183615, 0.6865109212448627], [0.7935660171412696, 0.7442141978674656, 0.2953158433377365, 0.7712407893605479, 0.722016626260358, 0.5030533532989501, 0.8155732235690654, 0.8613230336379504, 0.9101553142985934, 0.4302966114579541, 0.17532544924324472, 0.5310623278216042, -0.11963752313984637, 0.554897230628211, 0.5381663138957362, -0.10200679633746514, 0.48320832682561426, 0.4404722630462227, 0.6024496059209876, -0.03041339642360097, 0.21520401331002892, 0.7874238517122413, 0.35975460952503574, 0.8163221016875445, 0.7474188023228173, 0.5476909029497872, 0.801080364635253, 0.8554338603439984, 1.0, 0.5025284938306982, 0.5111141458863392], [0.41629431104861897, 0.16395333493630726, 0.10500791031597177, 0.18911504046245725, 0.14356991388907145, 0.39430948181175646, 0.5102234299218059, 0.409464126539986, 0.37574414542361134, 0.6998257976437318, 0.33401868385108285, 0.09454283035438174, -0.12821475779252972, 0.10993043423135032, 0.07412629159952809, -0.10734209778914458, 0.277878430714635, 0.19778782186141072, 0.14311566863305022, 0.3894024848846454, 0.11109395575572406, 0.24352920429131314, 0.23302746144531689, 0.2694927690838169, 0.20914550838707846, 0.4938383302357595, 0.6144405011493058, 0.5325197291183615, 0.5025284938306982, 1.0, 0.5378482062536074], [0.3238721887208239, 0.007065885692182505, 0.11920535139708544, 0.05101852972340659, 0.0037375973515715428, 0.49931636859376605, 0.6873823227538962, 0.5149298906363866, 0.36866113371677073, 0.43841349844460287, 0.7672967792384351, 0.049559432464573054, -0.045654568593207066, 0.08543257205665733, 0.017539295132385384, 0.10148031504252501, 0.5909727625047899, 0.43932926857579174, 0.3106545514938306, 0.07807947627266763, 0.5913280656608751, 0.09349197867930158, 0.21912242546315833, 0.13895686184575748, 0.07964703402467596, 0.6176241916554381, 0.8104548563116136, 0.6865109212448627, 0.5111141458863392, 0.5378482062536074, 1.0]]}],                        {\"autosize\": false, \"height\": 720, \"margin\": {\"b\": 210, \"l\": 210, \"r\": 0, \"t\": 25}, \"template\": {\"data\": {\"bar\": [{\"error_x\": {\"color\": \"#2a3f5f\"}, \"error_y\": {\"color\": \"#2a3f5f\"}, \"marker\": {\"line\": {\"color\": \"#E5ECF6\", \"width\": 0.5}}, \"type\": \"bar\"}], \"barpolar\": [{\"marker\": {\"line\": {\"color\": \"#E5ECF6\", \"width\": 0.5}}, \"type\": \"barpolar\"}], \"carpet\": [{\"aaxis\": {\"endlinecolor\": \"#2a3f5f\", \"gridcolor\": \"white\", \"linecolor\": \"white\", \"minorgridcolor\": \"white\", \"startlinecolor\": \"#2a3f5f\"}, \"baxis\": {\"endlinecolor\": \"#2a3f5f\", \"gridcolor\": \"white\", \"linecolor\": \"white\", \"minorgridcolor\": \"white\", \"startlinecolor\": \"#2a3f5f\"}, \"type\": \"carpet\"}], \"choropleth\": [{\"colorbar\": {\"outlinewidth\": 0, \"ticks\": \"\"}, \"type\": \"choropleth\"}], \"contour\": [{\"colorbar\": {\"outlinewidth\": 0, \"ticks\": \"\"}, \"colorscale\": [[0.0, \"#0d0887\"], [0.1111111111111111, \"#46039f\"], [0.2222222222222222, \"#7201a8\"], [0.3333333333333333, \"#9c179e\"], [0.4444444444444444, \"#bd3786\"], [0.5555555555555556, \"#d8576b\"], [0.6666666666666666, \"#ed7953\"], [0.7777777777777778, \"#fb9f3a\"], [0.8888888888888888, \"#fdca26\"], [1.0, \"#f0f921\"]], \"type\": \"contour\"}], \"contourcarpet\": [{\"colorbar\": {\"outlinewidth\": 0, \"ticks\": \"\"}, \"type\": \"contourcarpet\"}], \"heatmap\": [{\"colorbar\": {\"outlinewidth\": 0, \"ticks\": \"\"}, \"colorscale\": [[0.0, \"#0d0887\"], [0.1111111111111111, \"#46039f\"], [0.2222222222222222, \"#7201a8\"], [0.3333333333333333, \"#9c179e\"], [0.4444444444444444, \"#bd3786\"], [0.5555555555555556, \"#d8576b\"], [0.6666666666666666, \"#ed7953\"], [0.7777777777777778, \"#fb9f3a\"], [0.8888888888888888, \"#fdca26\"], [1.0, \"#f0f921\"]], \"type\": \"heatmap\"}], \"heatmapgl\": [{\"colorbar\": {\"outlinewidth\": 0, \"ticks\": \"\"}, \"colorscale\": [[0.0, \"#0d0887\"], [0.1111111111111111, \"#46039f\"], [0.2222222222222222, \"#7201a8\"], [0.3333333333333333, \"#9c179e\"], [0.4444444444444444, \"#bd3786\"], [0.5555555555555556, \"#d8576b\"], [0.6666666666666666, \"#ed7953\"], [0.7777777777777778, \"#fb9f3a\"], [0.8888888888888888, \"#fdca26\"], [1.0, \"#f0f921\"]], \"type\": \"heatmapgl\"}], \"histogram\": [{\"marker\": {\"colorbar\": {\"outlinewidth\": 0, \"ticks\": \"\"}}, \"type\": \"histogram\"}], \"histogram2d\": [{\"colorbar\": {\"outlinewidth\": 0, \"ticks\": \"\"}, \"colorscale\": [[0.0, \"#0d0887\"], [0.1111111111111111, \"#46039f\"], [0.2222222222222222, \"#7201a8\"], [0.3333333333333333, \"#9c179e\"], [0.4444444444444444, \"#bd3786\"], [0.5555555555555556, \"#d8576b\"], [0.6666666666666666, \"#ed7953\"], [0.7777777777777778, \"#fb9f3a\"], [0.8888888888888888, \"#fdca26\"], [1.0, \"#f0f921\"]], \"type\": \"histogram2d\"}], \"histogram2dcontour\": [{\"colorbar\": {\"outlinewidth\": 0, \"ticks\": \"\"}, \"colorscale\": [[0.0, \"#0d0887\"], [0.1111111111111111, \"#46039f\"], [0.2222222222222222, \"#7201a8\"], [0.3333333333333333, \"#9c179e\"], [0.4444444444444444, \"#bd3786\"], [0.5555555555555556, \"#d8576b\"], [0.6666666666666666, \"#ed7953\"], [0.7777777777777778, \"#fb9f3a\"], [0.8888888888888888, \"#fdca26\"], [1.0, \"#f0f921\"]], \"type\": \"histogram2dcontour\"}], \"mesh3d\": [{\"colorbar\": {\"outlinewidth\": 0, \"ticks\": \"\"}, \"type\": \"mesh3d\"}], \"parcoords\": [{\"line\": {\"colorbar\": {\"outlinewidth\": 0, \"ticks\": \"\"}}, \"type\": \"parcoords\"}], \"pie\": [{\"automargin\": true, \"type\": \"pie\"}], \"scatter\": [{\"marker\": {\"colorbar\": {\"outlinewidth\": 0, \"ticks\": \"\"}}, \"type\": \"scatter\"}], \"scatter3d\": [{\"line\": {\"colorbar\": {\"outlinewidth\": 0, \"ticks\": \"\"}}, \"marker\": {\"colorbar\": {\"outlinewidth\": 0, \"ticks\": \"\"}}, \"type\": \"scatter3d\"}], \"scattercarpet\": [{\"marker\": {\"colorbar\": {\"outlinewidth\": 0, \"ticks\": \"\"}}, \"type\": \"scattercarpet\"}], \"scattergeo\": [{\"marker\": {\"colorbar\": {\"outlinewidth\": 0, \"ticks\": \"\"}}, \"type\": \"scattergeo\"}], \"scattergl\": [{\"marker\": {\"colorbar\": {\"outlinewidth\": 0, \"ticks\": \"\"}}, \"type\": \"scattergl\"}], \"scattermapbox\": [{\"marker\": {\"colorbar\": {\"outlinewidth\": 0, \"ticks\": \"\"}}, \"type\": \"scattermapbox\"}], \"scatterpolar\": [{\"marker\": {\"colorbar\": {\"outlinewidth\": 0, \"ticks\": \"\"}}, \"type\": \"scatterpolar\"}], \"scatterpolargl\": [{\"marker\": {\"colorbar\": {\"outlinewidth\": 0, \"ticks\": \"\"}}, \"type\": \"scatterpolargl\"}], \"scatterternary\": [{\"marker\": {\"colorbar\": {\"outlinewidth\": 0, \"ticks\": \"\"}}, \"type\": \"scatterternary\"}], \"surface\": [{\"colorbar\": {\"outlinewidth\": 0, \"ticks\": \"\"}, \"colorscale\": [[0.0, \"#0d0887\"], [0.1111111111111111, \"#46039f\"], [0.2222222222222222, \"#7201a8\"], [0.3333333333333333, \"#9c179e\"], [0.4444444444444444, \"#bd3786\"], [0.5555555555555556, \"#d8576b\"], [0.6666666666666666, \"#ed7953\"], [0.7777777777777778, \"#fb9f3a\"], [0.8888888888888888, \"#fdca26\"], [1.0, \"#f0f921\"]], \"type\": \"surface\"}], \"table\": [{\"cells\": {\"fill\": {\"color\": \"#EBF0F8\"}, \"line\": {\"color\": \"white\"}}, \"header\": {\"fill\": {\"color\": \"#C8D4E3\"}, \"line\": {\"color\": \"white\"}}, \"type\": \"table\"}]}, \"layout\": {\"annotationdefaults\": {\"arrowcolor\": \"#2a3f5f\", \"arrowhead\": 0, \"arrowwidth\": 1}, \"autotypenumbers\": \"strict\", \"coloraxis\": {\"colorbar\": {\"outlinewidth\": 0, \"ticks\": \"\"}}, \"colorscale\": {\"diverging\": [[0, \"#8e0152\"], [0.1, \"#c51b7d\"], [0.2, \"#de77ae\"], [0.3, \"#f1b6da\"], [0.4, \"#fde0ef\"], [0.5, \"#f7f7f7\"], [0.6, \"#e6f5d0\"], [0.7, \"#b8e186\"], [0.8, \"#7fbc41\"], [0.9, \"#4d9221\"], [1, \"#276419\"]], \"sequential\": [[0.0, \"#0d0887\"], [0.1111111111111111, \"#46039f\"], [0.2222222222222222, \"#7201a8\"], [0.3333333333333333, \"#9c179e\"], [0.4444444444444444, \"#bd3786\"], [0.5555555555555556, \"#d8576b\"], [0.6666666666666666, \"#ed7953\"], [0.7777777777777778, \"#fb9f3a\"], [0.8888888888888888, \"#fdca26\"], [1.0, \"#f0f921\"]], \"sequentialminus\": [[0.0, \"#0d0887\"], [0.1111111111111111, \"#46039f\"], [0.2222222222222222, \"#7201a8\"], [0.3333333333333333, \"#9c179e\"], [0.4444444444444444, \"#bd3786\"], [0.5555555555555556, \"#d8576b\"], [0.6666666666666666, \"#ed7953\"], [0.7777777777777778, \"#fb9f3a\"], [0.8888888888888888, \"#fdca26\"], [1.0, \"#f0f921\"]]}, \"colorway\": [\"#636efa\", \"#EF553B\", \"#00cc96\", \"#ab63fa\", \"#FFA15A\", \"#19d3f3\", \"#FF6692\", \"#B6E880\", \"#FF97FF\", \"#FECB52\"], \"font\": {\"color\": \"#2a3f5f\"}, \"geo\": {\"bgcolor\": \"white\", \"lakecolor\": \"white\", \"landcolor\": \"#E5ECF6\", \"showlakes\": true, \"showland\": true, \"subunitcolor\": \"white\"}, \"hoverlabel\": {\"align\": \"left\"}, \"hovermode\": \"closest\", \"mapbox\": {\"style\": \"light\"}, \"paper_bgcolor\": \"white\", \"plot_bgcolor\": \"#E5ECF6\", \"polar\": {\"angularaxis\": {\"gridcolor\": \"white\", \"linecolor\": \"white\", \"ticks\": \"\"}, \"bgcolor\": \"#E5ECF6\", \"radialaxis\": {\"gridcolor\": \"white\", \"linecolor\": \"white\", \"ticks\": \"\"}}, \"scene\": {\"xaxis\": {\"backgroundcolor\": \"#E5ECF6\", \"gridcolor\": \"white\", \"gridwidth\": 2, \"linecolor\": \"white\", \"showbackground\": true, \"ticks\": \"\", \"zerolinecolor\": \"white\"}, \"yaxis\": {\"backgroundcolor\": \"#E5ECF6\", \"gridcolor\": \"white\", \"gridwidth\": 2, \"linecolor\": \"white\", \"showbackground\": true, \"ticks\": \"\", \"zerolinecolor\": \"white\"}, \"zaxis\": {\"backgroundcolor\": \"#E5ECF6\", \"gridcolor\": \"white\", \"gridwidth\": 2, \"linecolor\": \"white\", \"showbackground\": true, \"ticks\": \"\", \"zerolinecolor\": \"white\"}}, \"shapedefaults\": {\"line\": {\"color\": \"#2a3f5f\"}}, \"ternary\": {\"aaxis\": {\"gridcolor\": \"white\", \"linecolor\": \"white\", \"ticks\": \"\"}, \"baxis\": {\"gridcolor\": \"white\", \"linecolor\": \"white\", \"ticks\": \"\"}, \"bgcolor\": \"#E5ECF6\", \"caxis\": {\"gridcolor\": \"white\", \"linecolor\": \"white\", \"ticks\": \"\"}}, \"title\": {\"x\": 0.05}, \"xaxis\": {\"automargin\": true, \"gridcolor\": \"white\", \"linecolor\": \"white\", \"ticks\": \"\", \"title\": {\"standoff\": 15}, \"zerolinecolor\": \"white\", \"zerolinewidth\": 2}, \"yaxis\": {\"automargin\": true, \"gridcolor\": \"white\", \"linecolor\": \"white\", \"ticks\": \"\", \"title\": {\"standoff\": 15}, \"zerolinecolor\": \"white\", \"zerolinewidth\": 2}}}, \"title\": {\"text\": \"Correlation Matrix for variables\"}, \"width\": 800, \"xaxis\": {\"tickfont\": {\"size\": 9}}, \"yaxis\": {\"tickfont\": {\"size\": 9}}},                        {\"responsive\": true}                    ).then(function(){\n",
       "                            \n",
       "var gd = document.getElementById('ad0aea0a-9933-4e62-94be-4663463a70f4');\n",
       "var x = new MutationObserver(function (mutations, observer) {{\n",
       "        var display = window.getComputedStyle(gd).display;\n",
       "        if (!display || display === 'none') {{\n",
       "            console.log([gd, 'removed!']);\n",
       "            Plotly.purge(gd);\n",
       "            observer.disconnect();\n",
       "        }}\n",
       "}});\n",
       "\n",
       "// Listen for the removal of the full notebook cells\n",
       "var notebookContainer = gd.closest('#notebook-container');\n",
       "if (notebookContainer) {{\n",
       "    x.observe(notebookContainer, {childList: true});\n",
       "}}\n",
       "\n",
       "// Listen for the clearing of the current output cell\n",
       "var outputEl = gd.closest('.output');\n",
       "if (outputEl) {{\n",
       "    x.observe(outputEl, {childList: true});\n",
       "}}\n",
       "\n",
       "                        })                };                });            </script>        </div>"
      ]
     },
     "metadata": {},
     "output_type": "display_data"
    }
   ],
   "source": [
    "trace = go.Heatmap(z = corr_array,\n",
    "                   x = matrix_cols,\n",
    "                   y = matrix_cols,\n",
    "                   xgap = 2,\n",
    "                   ygap = 2,\n",
    "                   colorscale='Viridis',\n",
    "                   colorbar   = dict() ,\n",
    "                  )\n",
    "layout = go.Layout(dict(title = 'Correlation Matrix for variables',\n",
    "                        autosize = False,\n",
    "                        height  = 720,\n",
    "                        width   = 800,\n",
    "                        margin  = dict(r = 0 ,l = 210,\n",
    "                                       t = 25,b = 210,\n",
    "                                     ),\n",
    "                        yaxis   = dict(tickfont = dict(size = 9)),\n",
    "                        xaxis   = dict(tickfont = dict(size = 9)),\n",
    "                       )\n",
    "                  )\n",
    "fig = go.Figure(data = [trace],layout = layout)\n",
    "py.iplot(fig)"
   ]
  },
  {
   "cell_type": "code",
   "execution_count": 12,
   "metadata": {},
   "outputs": [
    {
     "name": "stdout",
     "output_type": "stream",
     "text": [
      "accuracy :\n",
      "0.9649122807017545\n"
     ]
    }
   ],
   "source": [
    "from sklearn import model_selection \n",
    "from sklearn.ensemble import BaggingClassifier \n",
    "from sklearn.tree import DecisionTreeClassifier \n",
    "import pandas as pd \n",
    "\n",
    "# load the data \n",
    "arr = data.values \n",
    "X = arr[:, 1:33] \n",
    "Y = arr[:, 0] \n",
    "\n",
    "kfold = model_selection.KFold(n_splits = 10, random_state = 8) \n",
    "\n",
    "# bagging classifier \n",
    "model = BaggingClassifier(base_estimator = DecisionTreeClassifier(), n_estimators = 500, random_state = 8) \n",
    "\n",
    "results = model_selection.cross_val_score(model, X, Y, cv = kfold) \n",
    "print(\"accuracy :\") \n",
    "print(results.mean()) "
   ]
  },
  {
   "cell_type": "code",
   "execution_count": 13,
   "metadata": {},
   "outputs": [],
   "source": [
    "import pandas as pd\n",
    "import io"
   ]
  },
  {
   "cell_type": "code",
   "execution_count": 19,
   "metadata": {},
   "outputs": [
    {
     "name": "stdout",
     "output_type": "stream",
     "text": [
      "Accuracy: 0.9122807017543859\n"
     ]
    }
   ],
   "source": [
    "import pandas as pd\n",
    "from sklearn.tree import DecisionTreeClassifier # Import Decision Tree Classifier\n",
    "from sklearn.model_selection import train_test_split # Import train_test_split function\n",
    "from sklearn import metrics #Import scikit-learn metrics module for accuracy calculation\n",
    "import io\n",
    "feature_cols = ['radius_mean','texture_mean','perimeter_mean','area_mean','smoothness_mean','compactness_mean','concavity_mean','concave points_mean','fractal_dimension_mean','symmetry_mean','radius_se']\n",
    "#X = data[feature_cols] # Features\n",
    "X = arr[:, 1:33]\n",
    "Y = arr[:, 0]\n",
    "#y = data.diagnosis # Target variable\n",
    "X_train, X_test, y_train, y_test = train_test_split(X, y, test_size=0.3, random_state=1) # 70% training and 30% test\n",
    "\n",
    "# Create Decision Tree classifer object\n",
    "clf = DecisionTreeClassifier()\n",
    "\n",
    "# Train Decision Tree Classifer\n",
    "clf = clf.fit(X_train,y_train)\n",
    "\n",
    "#Predict the response for test dataset\n",
    "y_pred = clf.predict(X_test)\n",
    "\n",
    "\n",
    "# Model Accuracy, how often is the classifier correct?\n",
    "print(\"Accuracy:\",metrics.accuracy_score(y_test, y_pred))\n"
   ]
  },
  {
   "cell_type": "code",
   "execution_count": null,
   "metadata": {},
   "outputs": [],
   "source": []
  }
 ],
 "metadata": {
  "kernelspec": {
   "display_name": "Python 3",
   "language": "python",
   "name": "python3"
  },
  "language_info": {
   "codemirror_mode": {
    "name": "ipython",
    "version": 3
   },
   "file_extension": ".py",
   "mimetype": "text/x-python",
   "name": "python",
   "nbconvert_exporter": "python",
   "pygments_lexer": "ipython3",
   "version": "3.8.3"
  }
 },
 "nbformat": 4,
 "nbformat_minor": 4
}
